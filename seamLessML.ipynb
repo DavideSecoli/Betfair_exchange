{
  "nbformat": 4,
  "nbformat_minor": 0,
  "metadata": {
    "colab": {
      "name": "seamLessML.ipynb",
      "provenance": [],
      "collapsed_sections": [],
      "authorship_tag": "ABX9TyOEHEAp6v6UEY26biYTforn",
      "include_colab_link": true
    },
    "kernelspec": {
      "name": "python3",
      "display_name": "Python 3"
    }
  },
  "cells": [
    {
      "cell_type": "markdown",
      "metadata": {
        "id": "view-in-github",
        "colab_type": "text"
      },
      "source": [
        "<a href=\"https://colab.research.google.com/github/DavideSecoli/seamLessML/blob/master/seamLessML.ipynb\" target=\"_parent\"><img src=\"https://colab.research.google.com/assets/colab-badge.svg\" alt=\"Open In Colab\"/></a>"
      ]
    },
    {
      "cell_type": "code",
      "metadata": {
        "id": "iP0uDmaXTPLU",
        "colab_type": "code",
        "colab": {}
      },
      "source": [
        "import pandas as pd \n",
        "import numpy as np \n",
        "import seaborn as sns\n",
        "import matplotlib.pyplot as plt"
      ],
      "execution_count": null,
      "outputs": []
    },
    {
      "cell_type": "code",
      "metadata": {
        "id": "_6DZrWpcXrNy",
        "colab_type": "code",
        "colab": {
          "base_uri": "https://localhost:8080/",
          "height": 34
        },
        "outputId": "6e794418-e996-422a-970a-b9222c2765fe"
      },
      "source": [
        "from google.colab import drive\n",
        "drive.mount('/content/gdrive')"
      ],
      "execution_count": null,
      "outputs": [
        {
          "output_type": "stream",
          "text": [
            "Drive already mounted at /content/gdrive; to attempt to forcibly remount, call drive.mount(\"/content/gdrive\", force_remount=True).\n"
          ],
          "name": "stdout"
        }
      ]
    },
    {
      "cell_type": "code",
      "metadata": {
        "id": "jpbX1KP78S9D",
        "colab_type": "code",
        "colab": {}
      },
      "source": [
        "# allow full display of DataFrame rows \n",
        "pd.set_option('display.max_rows', None)\n",
        "\n",
        "# config fig size\n",
        "sns.set(rc={'figure.figsize':(14.0,6.0)})"
      ],
      "execution_count": null,
      "outputs": []
    },
    {
      "cell_type": "code",
      "metadata": {
        "id": "crE1YWOSZrSb",
        "colab_type": "code",
        "colab": {}
      },
      "source": [
        "root_path = 'gdrive/My Drive/seamLess/assessment_log.json'"
      ],
      "execution_count": null,
      "outputs": []
    },
    {
      "cell_type": "code",
      "metadata": {
        "id": "5veUxsP4Ysvt",
        "colab_type": "code",
        "colab": {
          "base_uri": "https://localhost:8080/",
          "height": 204
        },
        "outputId": "cfadc413-f1e3-4122-da4d-b2f31331e4dd"
      },
      "source": [
        "# read json file \n",
        "df = pd.read_json(root_path, lines=True)\n",
        "df.head()"
      ],
      "execution_count": null,
      "outputs": [
        {
          "output_type": "execute_result",
          "data": {
            "text/html": [
              "<div>\n",
              "<style scoped>\n",
              "    .dataframe tbody tr th:only-of-type {\n",
              "        vertical-align: middle;\n",
              "    }\n",
              "\n",
              "    .dataframe tbody tr th {\n",
              "        vertical-align: top;\n",
              "    }\n",
              "\n",
              "    .dataframe thead th {\n",
              "        text-align: right;\n",
              "    }\n",
              "</style>\n",
              "<table border=\"1\" class=\"dataframe\">\n",
              "  <thead>\n",
              "    <tr style=\"text-align: right;\">\n",
              "      <th></th>\n",
              "      <th>app_data</th>\n",
              "      <th>name</th>\n",
              "      <th>levelname</th>\n",
              "      <th>time</th>\n",
              "    </tr>\n",
              "  </thead>\n",
              "  <tbody>\n",
              "    <tr>\n",
              "      <th>0</th>\n",
              "      <td>{'description': None, 'marketStartTime': '2020...</td>\n",
              "      <td>tc3.core.exchange</td>\n",
              "      <td>INFO</td>\n",
              "      <td>2020-03-24 13:44:14.827</td>\n",
              "    </tr>\n",
              "    <tr>\n",
              "      <th>1</th>\n",
              "      <td>{'description': None, 'marketStartTime': '2020...</td>\n",
              "      <td>tc3.core.exchange</td>\n",
              "      <td>INFO</td>\n",
              "      <td>2020-03-24 13:44:14.830</td>\n",
              "    </tr>\n",
              "    <tr>\n",
              "      <th>2</th>\n",
              "      <td>{'status': 'OPEN', 'isMarketDataDelayed': Fals...</td>\n",
              "      <td>tc3.core.exchange</td>\n",
              "      <td>INFO</td>\n",
              "      <td>2020-03-24 13:44:14.904</td>\n",
              "    </tr>\n",
              "    <tr>\n",
              "      <th>3</th>\n",
              "      <td>{'status': 'OPEN', 'isMarketDataDelayed': Fals...</td>\n",
              "      <td>tc3.core.exchange</td>\n",
              "      <td>INFO</td>\n",
              "      <td>2020-03-24 13:44:14.908</td>\n",
              "    </tr>\n",
              "    <tr>\n",
              "      <th>4</th>\n",
              "      <td>{'status': 'OPEN', 'isMarketDataDelayed': Fals...</td>\n",
              "      <td>tc3.core.exchange</td>\n",
              "      <td>INFO</td>\n",
              "      <td>2020-03-24 13:44:14.982</td>\n",
              "    </tr>\n",
              "  </tbody>\n",
              "</table>\n",
              "</div>"
            ],
            "text/plain": [
              "                                            app_data  ...                     time\n",
              "0  {'description': None, 'marketStartTime': '2020...  ...  2020-03-24 13:44:14.827\n",
              "1  {'description': None, 'marketStartTime': '2020...  ...  2020-03-24 13:44:14.830\n",
              "2  {'status': 'OPEN', 'isMarketDataDelayed': Fals...  ...  2020-03-24 13:44:14.904\n",
              "3  {'status': 'OPEN', 'isMarketDataDelayed': Fals...  ...  2020-03-24 13:44:14.908\n",
              "4  {'status': 'OPEN', 'isMarketDataDelayed': Fals...  ...  2020-03-24 13:44:14.982\n",
              "\n",
              "[5 rows x 4 columns]"
            ]
          },
          "metadata": {
            "tags": []
          },
          "execution_count": 348
        }
      ]
    },
    {
      "cell_type": "markdown",
      "metadata": {
        "id": "NoizYzlHcmAo",
        "colab_type": "text"
      },
      "source": [
        "Json data structure is nested and requires further expansion of 'app_data. Given the size of the file I'll split it by name first"
      ]
    },
    {
      "cell_type": "code",
      "metadata": {
        "id": "QbvXQ3yPZ4fQ",
        "colab_type": "code",
        "colab": {
          "base_uri": "https://localhost:8080/",
          "height": 51
        },
        "outputId": "0a2c11a1-ee74-427b-cf80-bb63aab2a62d"
      },
      "source": [
        "# check different names\n",
        "df.name.unique()"
      ],
      "execution_count": null,
      "outputs": [
        {
          "output_type": "execute_result",
          "data": {
            "text/plain": [
              "array(['tc3.core.exchange', 'tc3.core.trader', 'tc3.execution.brokers'],\n",
              "      dtype=object)"
            ]
          },
          "metadata": {
            "tags": []
          },
          "execution_count": 349
        }
      ]
    },
    {
      "cell_type": "code",
      "metadata": {
        "id": "gl7O8p7CZo1Q",
        "colab_type": "code",
        "colab": {}
      },
      "source": [
        "# split data by name \n",
        "exchange = df[df.name == 'tc3.core.exchange']\n",
        "trader = df[df.name == 'tc3.core.trader']\n",
        "brokers = df[df.name == 'tc3.execution.brokers']"
      ],
      "execution_count": null,
      "outputs": []
    },
    {
      "cell_type": "markdown",
      "metadata": {
        "id": "xi9faHp2dvfm",
        "colab_type": "text"
      },
      "source": [
        "# **Exchange**"
      ]
    },
    {
      "cell_type": "code",
      "metadata": {
        "id": "GLJmbLMRd7tk",
        "colab_type": "code",
        "colab": {
          "base_uri": "https://localhost:8080/",
          "height": 204
        },
        "outputId": "783c6485-3d19-4fec-81ef-84aa9e627612"
      },
      "source": [
        "exchange.head()"
      ],
      "execution_count": null,
      "outputs": [
        {
          "output_type": "execute_result",
          "data": {
            "text/html": [
              "<div>\n",
              "<style scoped>\n",
              "    .dataframe tbody tr th:only-of-type {\n",
              "        vertical-align: middle;\n",
              "    }\n",
              "\n",
              "    .dataframe tbody tr th {\n",
              "        vertical-align: top;\n",
              "    }\n",
              "\n",
              "    .dataframe thead th {\n",
              "        text-align: right;\n",
              "    }\n",
              "</style>\n",
              "<table border=\"1\" class=\"dataframe\">\n",
              "  <thead>\n",
              "    <tr style=\"text-align: right;\">\n",
              "      <th></th>\n",
              "      <th>app_data</th>\n",
              "      <th>name</th>\n",
              "      <th>levelname</th>\n",
              "      <th>time</th>\n",
              "    </tr>\n",
              "  </thead>\n",
              "  <tbody>\n",
              "    <tr>\n",
              "      <th>0</th>\n",
              "      <td>{'description': None, 'marketStartTime': '2020...</td>\n",
              "      <td>tc3.core.exchange</td>\n",
              "      <td>INFO</td>\n",
              "      <td>2020-03-24 13:44:14.827</td>\n",
              "    </tr>\n",
              "    <tr>\n",
              "      <th>1</th>\n",
              "      <td>{'description': None, 'marketStartTime': '2020...</td>\n",
              "      <td>tc3.core.exchange</td>\n",
              "      <td>INFO</td>\n",
              "      <td>2020-03-24 13:44:14.830</td>\n",
              "    </tr>\n",
              "    <tr>\n",
              "      <th>2</th>\n",
              "      <td>{'status': 'OPEN', 'isMarketDataDelayed': Fals...</td>\n",
              "      <td>tc3.core.exchange</td>\n",
              "      <td>INFO</td>\n",
              "      <td>2020-03-24 13:44:14.904</td>\n",
              "    </tr>\n",
              "    <tr>\n",
              "      <th>3</th>\n",
              "      <td>{'status': 'OPEN', 'isMarketDataDelayed': Fals...</td>\n",
              "      <td>tc3.core.exchange</td>\n",
              "      <td>INFO</td>\n",
              "      <td>2020-03-24 13:44:14.908</td>\n",
              "    </tr>\n",
              "    <tr>\n",
              "      <th>4</th>\n",
              "      <td>{'status': 'OPEN', 'isMarketDataDelayed': Fals...</td>\n",
              "      <td>tc3.core.exchange</td>\n",
              "      <td>INFO</td>\n",
              "      <td>2020-03-24 13:44:14.982</td>\n",
              "    </tr>\n",
              "  </tbody>\n",
              "</table>\n",
              "</div>"
            ],
            "text/plain": [
              "                                            app_data  ...                     time\n",
              "0  {'description': None, 'marketStartTime': '2020...  ...  2020-03-24 13:44:14.827\n",
              "1  {'description': None, 'marketStartTime': '2020...  ...  2020-03-24 13:44:14.830\n",
              "2  {'status': 'OPEN', 'isMarketDataDelayed': Fals...  ...  2020-03-24 13:44:14.904\n",
              "3  {'status': 'OPEN', 'isMarketDataDelayed': Fals...  ...  2020-03-24 13:44:14.908\n",
              "4  {'status': 'OPEN', 'isMarketDataDelayed': Fals...  ...  2020-03-24 13:44:14.982\n",
              "\n",
              "[5 rows x 4 columns]"
            ]
          },
          "metadata": {
            "tags": []
          },
          "execution_count": 351
        }
      ]
    },
    {
      "cell_type": "markdown",
      "metadata": {
        "id": "0Y0AslVheAJu",
        "colab_type": "text"
      },
      "source": [
        "First two rows are descriptive and contain info about racing horses. \n",
        "Subsequent rows contain data timeseries"
      ]
    },
    {
      "cell_type": "markdown",
      "metadata": {
        "id": "rT1EAceKDqzy",
        "colab_type": "text"
      },
      "source": [
        "### **Exchange** **descriptive**"
      ]
    },
    {
      "cell_type": "code",
      "metadata": {
        "id": "bl51rZEraWg8",
        "colab_type": "code",
        "colab": {
          "base_uri": "https://localhost:8080/",
          "height": 981
        },
        "outputId": "49707d43-91aa-414f-f022-0da7a1b924e8"
      },
      "source": [
        "# exctract exchange descriptive rows \n",
        "exchange_desc = pd.json_normalize(exchange.to_dict(orient='record'),record_path=[\"app_data\", \"runners\"],meta=['time'])\n",
        "\n",
        "# select only elements of first row as second is duplicate\n",
        "exchange_desc = pd.DataFrame(exchange_desc).iloc[:19]\n",
        "\n",
        "# remove undescriptive columns \n",
        "cols =['status','sp','removalDate','matches','totalMatched','adjustmentFactor','orders',\n",
        "       'lastPriceTraded','ex.availableToBack','ex.availableToLay','ex.tradedVolume','metadata.OFFICIAL_RATING']\n",
        "exchange_desc.drop(cols, inplace=True, axis=1)\n",
        "exchange_desc"
      ],
      "execution_count": null,
      "outputs": [
        {
          "output_type": "execute_result",
          "data": {
            "text/html": [
              "<div>\n",
              "<style scoped>\n",
              "    .dataframe tbody tr th:only-of-type {\n",
              "        vertical-align: middle;\n",
              "    }\n",
              "\n",
              "    .dataframe tbody tr th {\n",
              "        vertical-align: top;\n",
              "    }\n",
              "\n",
              "    .dataframe thead th {\n",
              "        text-align: right;\n",
              "    }\n",
              "</style>\n",
              "<table border=\"1\" class=\"dataframe\">\n",
              "  <thead>\n",
              "    <tr style=\"text-align: right;\">\n",
              "      <th></th>\n",
              "      <th>handicap</th>\n",
              "      <th>runnerName</th>\n",
              "      <th>selectionId</th>\n",
              "      <th>sortPriority</th>\n",
              "      <th>metadata.WEIGHT_UNITS</th>\n",
              "      <th>metadata.COLOURS_DESCRIPTION</th>\n",
              "      <th>metadata.runnerId</th>\n",
              "      <th>metadata.FORECASTPRICE_DENOMINATOR</th>\n",
              "      <th>metadata.AGE</th>\n",
              "      <th>metadata.DAM_BRED</th>\n",
              "      <th>metadata.DAMSIRE_NAME</th>\n",
              "      <th>metadata.JOCKEY_NAME</th>\n",
              "      <th>metadata.STALL_DRAW</th>\n",
              "      <th>metadata.WEARING</th>\n",
              "      <th>metadata.SIRE_YEAR_BORN</th>\n",
              "      <th>metadata.TRAINER_NAME</th>\n",
              "      <th>metadata.DAM_YEAR_BORN</th>\n",
              "      <th>metadata.WEIGHT_VALUE</th>\n",
              "      <th>metadata.CLOTH_NUMBER_ALPHA</th>\n",
              "      <th>metadata.CLOTH_NUMBER</th>\n",
              "      <th>metadata.FORM</th>\n",
              "      <th>metadata.BRED</th>\n",
              "      <th>metadata.DAM_NAME</th>\n",
              "      <th>metadata.JOCKEY_CLAIM</th>\n",
              "      <th>metadata.SIRE_BRED</th>\n",
              "      <th>metadata.ADJUSTED_RATING</th>\n",
              "      <th>metadata.OWNER_NAME</th>\n",
              "      <th>metadata.DAYS_SINCE_LAST_RUN</th>\n",
              "      <th>metadata.COLOURS_FILENAME</th>\n",
              "      <th>metadata.DAMSIRE_YEAR_BORN</th>\n",
              "      <th>metadata.DAMSIRE_BRED</th>\n",
              "      <th>metadata.FORECASTPRICE_NUMERATOR</th>\n",
              "      <th>metadata.COLOUR_TYPE</th>\n",
              "      <th>metadata.SEX_TYPE</th>\n",
              "      <th>metadata.SIRE_NAME</th>\n",
              "      <th>time</th>\n",
              "    </tr>\n",
              "  </thead>\n",
              "  <tbody>\n",
              "    <tr>\n",
              "      <th>0</th>\n",
              "      <td>0.0</td>\n",
              "      <td>Farmix</td>\n",
              "      <td>27157433</td>\n",
              "      <td>1.0</td>\n",
              "      <td>pounds</td>\n",
              "      <td>Orange, beige chevrons on sleeves, beige cap</td>\n",
              "      <td>27157433</td>\n",
              "      <td>1</td>\n",
              "      <td>5</td>\n",
              "      <td>FR</td>\n",
              "      <td>Agent Bleu</td>\n",
              "      <td>Donagh Meyler</td>\n",
              "      <td>NaN</td>\n",
              "      <td>None</td>\n",
              "      <td>1997</td>\n",
              "      <td>Miss Elizabeth Doyle</td>\n",
              "      <td>2004</td>\n",
              "      <td>160</td>\n",
              "      <td>3</td>\n",
              "      <td>3</td>\n",
              "      <td>422</td>\n",
              "      <td>FR</td>\n",
              "      <td>Quamilla</td>\n",
              "      <td>None</td>\n",
              "      <td>FR</td>\n",
              "      <td>NaN</td>\n",
              "      <td>M. L. Bloodstock Limited</td>\n",
              "      <td>20</td>\n",
              "      <td>c20200324clo/00074357.jpg</td>\n",
              "      <td>1987</td>\n",
              "      <td>FR</td>\n",
              "      <td>2</td>\n",
              "      <td>b</td>\n",
              "      <td>g</td>\n",
              "      <td>Al Namix</td>\n",
              "      <td>2020-03-24 13:44:14.827</td>\n",
              "    </tr>\n",
              "    <tr>\n",
              "      <th>1</th>\n",
              "      <td>0.0</td>\n",
              "      <td>Florrie Webb</td>\n",
              "      <td>25013915</td>\n",
              "      <td>2.0</td>\n",
              "      <td>pounds</td>\n",
              "      <td>Dark blue and red spots, check cap</td>\n",
              "      <td>25013915</td>\n",
              "      <td>1</td>\n",
              "      <td>6</td>\n",
              "      <td>IRE</td>\n",
              "      <td>Shantou</td>\n",
              "      <td>Rachael Blackmore</td>\n",
              "      <td>NaN</td>\n",
              "      <td>None</td>\n",
              "      <td>2003</td>\n",
              "      <td>Henry de Bromhead</td>\n",
              "      <td>2006</td>\n",
              "      <td>160</td>\n",
              "      <td>4</td>\n",
              "      <td>4</td>\n",
              "      <td>3</td>\n",
              "      <td>IRE</td>\n",
              "      <td>Some Catch</td>\n",
              "      <td>None</td>\n",
              "      <td>GER</td>\n",
              "      <td>NaN</td>\n",
              "      <td>Mrs L Halley &amp; Mrs G Kinsella</td>\n",
              "      <td>256</td>\n",
              "      <td>c20200324clo/00859461.jpg</td>\n",
              "      <td>1993</td>\n",
              "      <td>USA</td>\n",
              "      <td>4</td>\n",
              "      <td>b</td>\n",
              "      <td>g</td>\n",
              "      <td>Prince Flori</td>\n",
              "      <td>2020-03-24 13:44:14.827</td>\n",
              "    </tr>\n",
              "    <tr>\n",
              "      <th>2</th>\n",
              "      <td>0.0</td>\n",
              "      <td>Coolagh Park</td>\n",
              "      <td>24044533</td>\n",
              "      <td>3.0</td>\n",
              "      <td>pounds</td>\n",
              "      <td>Dark blue, white star, white stars on sleeves,...</td>\n",
              "      <td>24044533</td>\n",
              "      <td>1</td>\n",
              "      <td>6</td>\n",
              "      <td>FR</td>\n",
              "      <td>Cyborg</td>\n",
              "      <td>Keith Donoghue</td>\n",
              "      <td>NaN</td>\n",
              "      <td>tongue strap</td>\n",
              "      <td>1999</td>\n",
              "      <td>Gordon Elliott</td>\n",
              "      <td>2001</td>\n",
              "      <td>160</td>\n",
              "      <td>2</td>\n",
              "      <td>2</td>\n",
              "      <td>2862</td>\n",
              "      <td>GB</td>\n",
              "      <td>Gaspaie</td>\n",
              "      <td>None</td>\n",
              "      <td>FR</td>\n",
              "      <td>NaN</td>\n",
              "      <td>Mr Alan Harte</td>\n",
              "      <td>17</td>\n",
              "      <td>c20200324clo/00080662A.jpg</td>\n",
              "      <td>1982</td>\n",
              "      <td>FR</td>\n",
              "      <td>4</td>\n",
              "      <td>b</td>\n",
              "      <td>g</td>\n",
              "      <td>Kapgarde</td>\n",
              "      <td>2020-03-24 13:44:14.827</td>\n",
              "    </tr>\n",
              "    <tr>\n",
              "      <th>3</th>\n",
              "      <td>0.0</td>\n",
              "      <td>Jack Hackett</td>\n",
              "      <td>23225592</td>\n",
              "      <td>4.0</td>\n",
              "      <td>pounds</td>\n",
              "      <td>Light green, black cross sashes, black sleeves...</td>\n",
              "      <td>23225592</td>\n",
              "      <td>1</td>\n",
              "      <td>6</td>\n",
              "      <td>IRE</td>\n",
              "      <td>Beneficial</td>\n",
              "      <td>P. E. Corbett</td>\n",
              "      <td>NaN</td>\n",
              "      <td>None</td>\n",
              "      <td>1997</td>\n",
              "      <td>Mrs D. A. Love</td>\n",
              "      <td>2004</td>\n",
              "      <td>168</td>\n",
              "      <td>1</td>\n",
              "      <td>1</td>\n",
              "      <td>1-44446</td>\n",
              "      <td>IRE</td>\n",
              "      <td>Corskeagh Shadow</td>\n",
              "      <td>None</td>\n",
              "      <td>UK</td>\n",
              "      <td>NaN</td>\n",
              "      <td>Mr Sean Reilly</td>\n",
              "      <td>23</td>\n",
              "      <td>c20200324clo/00038343.jpg</td>\n",
              "      <td>1990</td>\n",
              "      <td>UK</td>\n",
              "      <td>22</td>\n",
              "      <td>b</td>\n",
              "      <td>g</td>\n",
              "      <td>Beat Hollow</td>\n",
              "      <td>2020-03-24 13:44:14.827</td>\n",
              "    </tr>\n",
              "    <tr>\n",
              "      <th>4</th>\n",
              "      <td>0.0</td>\n",
              "      <td>Rebel Gold</td>\n",
              "      <td>26986439</td>\n",
              "      <td>5.0</td>\n",
              "      <td>pounds</td>\n",
              "      <td>Orange, black epaulettes, halved sleeves, oran...</td>\n",
              "      <td>26986439</td>\n",
              "      <td>1</td>\n",
              "      <td>7</td>\n",
              "      <td>IRE</td>\n",
              "      <td>Definite Article</td>\n",
              "      <td>P. D. Kennedy</td>\n",
              "      <td>NaN</td>\n",
              "      <td>hood and tongue strap</td>\n",
              "      <td>2001</td>\n",
              "      <td>Thomas Foley</td>\n",
              "      <td>2003</td>\n",
              "      <td>160</td>\n",
              "      <td>9</td>\n",
              "      <td>9</td>\n",
              "      <td>890053</td>\n",
              "      <td>IRE</td>\n",
              "      <td>Julia's Girl</td>\n",
              "      <td>None</td>\n",
              "      <td>UK</td>\n",
              "      <td>NaN</td>\n",
              "      <td>Miss S. Foley</td>\n",
              "      <td>7</td>\n",
              "      <td>c20200324clo/00036612.jpg</td>\n",
              "      <td>1992</td>\n",
              "      <td>UK</td>\n",
              "      <td>12</td>\n",
              "      <td>b</td>\n",
              "      <td>g</td>\n",
              "      <td>Gold Well</td>\n",
              "      <td>2020-03-24 13:44:14.827</td>\n",
              "    </tr>\n",
              "    <tr>\n",
              "      <th>5</th>\n",
              "      <td>0.0</td>\n",
              "      <td>Satin Sun</td>\n",
              "      <td>28095568</td>\n",
              "      <td>6.0</td>\n",
              "      <td>pounds</td>\n",
              "      <td>Black, white diamond, white diamonds on sleeve...</td>\n",
              "      <td>28095568</td>\n",
              "      <td>1</td>\n",
              "      <td>6</td>\n",
              "      <td>IRE</td>\n",
              "      <td>Anshan</td>\n",
              "      <td>B. Hayes</td>\n",
              "      <td>NaN</td>\n",
              "      <td>None</td>\n",
              "      <td>2004</td>\n",
              "      <td>James Daniel Dullea</td>\n",
              "      <td>1999</td>\n",
              "      <td>153</td>\n",
              "      <td>15</td>\n",
              "      <td>15</td>\n",
              "      <td>5</td>\n",
              "      <td>IRE</td>\n",
              "      <td>Murrosie</td>\n",
              "      <td>None</td>\n",
              "      <td>UK</td>\n",
              "      <td>NaN</td>\n",
              "      <td>James Dullea Racing Syndicate</td>\n",
              "      <td>19</td>\n",
              "      <td>c20200324clo/00859462.jpg</td>\n",
              "      <td>1987</td>\n",
              "      <td>UK</td>\n",
              "      <td>20</td>\n",
              "      <td>b</td>\n",
              "      <td>m</td>\n",
              "      <td>Mahler</td>\n",
              "      <td>2020-03-24 13:44:14.827</td>\n",
              "    </tr>\n",
              "    <tr>\n",
              "      <th>6</th>\n",
              "      <td>0.0</td>\n",
              "      <td>She Tops The Lot</td>\n",
              "      <td>28247531</td>\n",
              "      <td>7.0</td>\n",
              "      <td>pounds</td>\n",
              "      <td>Black, light green star, light green sleeves, ...</td>\n",
              "      <td>28247531</td>\n",
              "      <td>1</td>\n",
              "      <td>7</td>\n",
              "      <td>IRE</td>\n",
              "      <td>Topanoora</td>\n",
              "      <td>D. Robinson</td>\n",
              "      <td>NaN</td>\n",
              "      <td>None</td>\n",
              "      <td>2001</td>\n",
              "      <td>Henry de Bromhead</td>\n",
              "      <td>2000</td>\n",
              "      <td>153</td>\n",
              "      <td>16</td>\n",
              "      <td>16</td>\n",
              "      <td>None</td>\n",
              "      <td>IRE</td>\n",
              "      <td>Top Lot</td>\n",
              "      <td>3</td>\n",
              "      <td>IRE</td>\n",
              "      <td>NaN</td>\n",
              "      <td>Foleys Bar Syndicate</td>\n",
              "      <td>0</td>\n",
              "      <td>c20200324clo/00836033.jpg</td>\n",
              "      <td>1987</td>\n",
              "      <td>UK</td>\n",
              "      <td>20</td>\n",
              "      <td>b</td>\n",
              "      <td>m</td>\n",
              "      <td>Yeats</td>\n",
              "      <td>2020-03-24 13:44:14.827</td>\n",
              "    </tr>\n",
              "    <tr>\n",
              "      <th>7</th>\n",
              "      <td>0.0</td>\n",
              "      <td>Justfortherecord</td>\n",
              "      <td>28247530</td>\n",
              "      <td>8.0</td>\n",
              "      <td>pounds</td>\n",
              "      <td>Emerald green and orange hooped, white cap</td>\n",
              "      <td>28247530</td>\n",
              "      <td>1</td>\n",
              "      <td>5</td>\n",
              "      <td>IRE</td>\n",
              "      <td>Buster King</td>\n",
              "      <td>Niall Madden</td>\n",
              "      <td>NaN</td>\n",
              "      <td>None</td>\n",
              "      <td>1998</td>\n",
              "      <td>J. D. Motherway</td>\n",
              "      <td>2002</td>\n",
              "      <td>160</td>\n",
              "      <td>7</td>\n",
              "      <td>7</td>\n",
              "      <td>None</td>\n",
              "      <td>IRE</td>\n",
              "      <td>Bluesea Cracker</td>\n",
              "      <td>None</td>\n",
              "      <td>UK</td>\n",
              "      <td>NaN</td>\n",
              "      <td>Mr John P. McManus</td>\n",
              "      <td>0</td>\n",
              "      <td>c20200324clo/00032184.jpg</td>\n",
              "      <td>1986</td>\n",
              "      <td>UK</td>\n",
              "      <td>50</td>\n",
              "      <td>b</td>\n",
              "      <td>g</td>\n",
              "      <td>Milan</td>\n",
              "      <td>2020-03-24 13:44:14.827</td>\n",
              "    </tr>\n",
              "    <tr>\n",
              "      <th>8</th>\n",
              "      <td>0.0</td>\n",
              "      <td>Giftedtokate</td>\n",
              "      <td>28232003</td>\n",
              "      <td>9.0</td>\n",
              "      <td>pounds</td>\n",
              "      <td>Black, yellow and black striped cap</td>\n",
              "      <td>28232003</td>\n",
              "      <td>1</td>\n",
              "      <td>5</td>\n",
              "      <td>UK</td>\n",
              "      <td>Anabaa</td>\n",
              "      <td>Mr S. F. O'Keeffe</td>\n",
              "      <td>NaN</td>\n",
              "      <td>None</td>\n",
              "      <td>2002</td>\n",
              "      <td>Miss Elizabeth Doyle</td>\n",
              "      <td>2001</td>\n",
              "      <td>160</td>\n",
              "      <td>5</td>\n",
              "      <td>5</td>\n",
              "      <td>None</td>\n",
              "      <td>IRE</td>\n",
              "      <td>Suspicious Minds</td>\n",
              "      <td>5</td>\n",
              "      <td>IRE</td>\n",
              "      <td>NaN</td>\n",
              "      <td>Hilary Walsh</td>\n",
              "      <td>0</td>\n",
              "      <td>c20200324clo/00834742.jpg</td>\n",
              "      <td>1992</td>\n",
              "      <td>USA</td>\n",
              "      <td>28</td>\n",
              "      <td>b</td>\n",
              "      <td>h</td>\n",
              "      <td>Scorpion</td>\n",
              "      <td>2020-03-24 13:44:14.827</td>\n",
              "    </tr>\n",
              "    <tr>\n",
              "      <th>9</th>\n",
              "      <td>0.0</td>\n",
              "      <td>Boghlone Honey</td>\n",
              "      <td>27915468</td>\n",
              "      <td>10.0</td>\n",
              "      <td>pounds</td>\n",
              "      <td>Royal blue, light green seams, royal blue cap</td>\n",
              "      <td>27915468</td>\n",
              "      <td>1</td>\n",
              "      <td>5</td>\n",
              "      <td>IRE</td>\n",
              "      <td>Milan</td>\n",
              "      <td>Denis O'Regan</td>\n",
              "      <td>NaN</td>\n",
              "      <td>None</td>\n",
              "      <td>2003</td>\n",
              "      <td>Liam P. Cusack</td>\n",
              "      <td>2006</td>\n",
              "      <td>153</td>\n",
              "      <td>10</td>\n",
              "      <td>10</td>\n",
              "      <td>77</td>\n",
              "      <td>IRE</td>\n",
              "      <td>Peig Alainn</td>\n",
              "      <td>None</td>\n",
              "      <td>USA</td>\n",
              "      <td>NaN</td>\n",
              "      <td>Francis G Murray &amp; John T Murray</td>\n",
              "      <td>16</td>\n",
              "      <td>c20200324clo/00861668.jpg</td>\n",
              "      <td>1998</td>\n",
              "      <td>UK</td>\n",
              "      <td>150</td>\n",
              "      <td>b</td>\n",
              "      <td>m</td>\n",
              "      <td>Jeremy</td>\n",
              "      <td>2020-03-24 13:44:14.827</td>\n",
              "    </tr>\n",
              "    <tr>\n",
              "      <th>10</th>\n",
              "      <td>0.0</td>\n",
              "      <td>Cornhill Lass</td>\n",
              "      <td>26831220</td>\n",
              "      <td>11.0</td>\n",
              "      <td>pounds</td>\n",
              "      <td>Dark blue and yellow hoops, white sleeves and cap</td>\n",
              "      <td>26831220</td>\n",
              "      <td>1</td>\n",
              "      <td>6</td>\n",
              "      <td>IRE</td>\n",
              "      <td>Oscar</td>\n",
              "      <td>Mr H. P. Cleary</td>\n",
              "      <td>NaN</td>\n",
              "      <td>None</td>\n",
              "      <td>2002</td>\n",
              "      <td>Thomas Mullins</td>\n",
              "      <td>2004</td>\n",
              "      <td>153</td>\n",
              "      <td>12</td>\n",
              "      <td>12</td>\n",
              "      <td>03900</td>\n",
              "      <td>IRE</td>\n",
              "      <td>Limekiln Lass</td>\n",
              "      <td>7</td>\n",
              "      <td>IRE</td>\n",
              "      <td>NaN</td>\n",
              "      <td>Adios Amigos Syndicate</td>\n",
              "      <td>19</td>\n",
              "      <td>c20200324clo/00056694.jpg</td>\n",
              "      <td>1994</td>\n",
              "      <td>IRE</td>\n",
              "      <td>80</td>\n",
              "      <td>b</td>\n",
              "      <td>m</td>\n",
              "      <td>Scorpion</td>\n",
              "      <td>2020-03-24 13:44:14.827</td>\n",
              "    </tr>\n",
              "    <tr>\n",
              "      <th>11</th>\n",
              "      <td>0.0</td>\n",
              "      <td>Morning Glisten</td>\n",
              "      <td>28041063</td>\n",
              "      <td>12.0</td>\n",
              "      <td>pounds</td>\n",
              "      <td>Royal blue, white hoop, royal blue and brown c...</td>\n",
              "      <td>28041063</td>\n",
              "      <td>1</td>\n",
              "      <td>6</td>\n",
              "      <td>FR</td>\n",
              "      <td>Kaldounevees</td>\n",
              "      <td>M. J. Bolger</td>\n",
              "      <td>NaN</td>\n",
              "      <td>None</td>\n",
              "      <td>2008</td>\n",
              "      <td>C. P. Donoghue</td>\n",
              "      <td>2004</td>\n",
              "      <td>153</td>\n",
              "      <td>14</td>\n",
              "      <td>14</td>\n",
              "      <td>0</td>\n",
              "      <td>IRE</td>\n",
              "      <td>Trauquebise</td>\n",
              "      <td>None</td>\n",
              "      <td>AUS</td>\n",
              "      <td>NaN</td>\n",
              "      <td>Mr C. P. Donoghue</td>\n",
              "      <td>21</td>\n",
              "      <td>c20200324clo/00026928.jpg</td>\n",
              "      <td>1991</td>\n",
              "      <td>FR</td>\n",
              "      <td>300</td>\n",
              "      <td>gr</td>\n",
              "      <td>m</td>\n",
              "      <td>Elzaam</td>\n",
              "      <td>2020-03-24 13:44:14.827</td>\n",
              "    </tr>\n",
              "    <tr>\n",
              "      <th>12</th>\n",
              "      <td>0.0</td>\n",
              "      <td>Kerrymaygold</td>\n",
              "      <td>24707404</td>\n",
              "      <td>13.0</td>\n",
              "      <td>pounds</td>\n",
              "      <td>Royal blue, yellow epaulettes, red and light g...</td>\n",
              "      <td>24707404</td>\n",
              "      <td>1</td>\n",
              "      <td>5</td>\n",
              "      <td>IRE</td>\n",
              "      <td>Presenting</td>\n",
              "      <td>G. B. Noonan</td>\n",
              "      <td>NaN</td>\n",
              "      <td>None</td>\n",
              "      <td>2002</td>\n",
              "      <td>Patrick Neville</td>\n",
              "      <td>2008</td>\n",
              "      <td>160</td>\n",
              "      <td>8</td>\n",
              "      <td>8</td>\n",
              "      <td>P</td>\n",
              "      <td>IRE</td>\n",
              "      <td>Laurens Trix</td>\n",
              "      <td>7</td>\n",
              "      <td>IRE</td>\n",
              "      <td>NaN</td>\n",
              "      <td>Ms Pauline Twiss</td>\n",
              "      <td>279</td>\n",
              "      <td>c20200324clo/00069298.jpg</td>\n",
              "      <td>1992</td>\n",
              "      <td>UK</td>\n",
              "      <td>66</td>\n",
              "      <td>b</td>\n",
              "      <td>g</td>\n",
              "      <td>Scorpion</td>\n",
              "      <td>2020-03-24 13:44:14.827</td>\n",
              "    </tr>\n",
              "    <tr>\n",
              "      <th>13</th>\n",
              "      <td>0.0</td>\n",
              "      <td>Gone Racing</td>\n",
              "      <td>24245268</td>\n",
              "      <td>14.0</td>\n",
              "      <td>pounds</td>\n",
              "      <td>Purple, pink diamond, pink sleeves, purple dia...</td>\n",
              "      <td>24245268</td>\n",
              "      <td>1</td>\n",
              "      <td>6</td>\n",
              "      <td>IRE</td>\n",
              "      <td>Oscar</td>\n",
              "      <td>A. W. Short</td>\n",
              "      <td>NaN</td>\n",
              "      <td>None</td>\n",
              "      <td>2003</td>\n",
              "      <td>Mark McNiff</td>\n",
              "      <td>2005</td>\n",
              "      <td>160</td>\n",
              "      <td>6</td>\n",
              "      <td>6</td>\n",
              "      <td>B7988</td>\n",
              "      <td>IRE</td>\n",
              "      <td>Donoscar</td>\n",
              "      <td>3</td>\n",
              "      <td>GER</td>\n",
              "      <td>NaN</td>\n",
              "      <td>Queen Maeve Racing Club</td>\n",
              "      <td>208</td>\n",
              "      <td>c20200324clo/00058364.jpg</td>\n",
              "      <td>1994</td>\n",
              "      <td>IRE</td>\n",
              "      <td>125</td>\n",
              "      <td>b</td>\n",
              "      <td>g</td>\n",
              "      <td>Getaway</td>\n",
              "      <td>2020-03-24 13:44:14.827</td>\n",
              "    </tr>\n",
              "    <tr>\n",
              "      <th>14</th>\n",
              "      <td>0.0</td>\n",
              "      <td>Miss Sophiea</td>\n",
              "      <td>27382103</td>\n",
              "      <td>15.0</td>\n",
              "      <td>pounds</td>\n",
              "      <td>Dark blue and grey diamonds, grey sleeves, whi...</td>\n",
              "      <td>27382103</td>\n",
              "      <td>1</td>\n",
              "      <td>6</td>\n",
              "      <td>UK</td>\n",
              "      <td>Shareef Dancer</td>\n",
              "      <td>Philip Enright</td>\n",
              "      <td>NaN</td>\n",
              "      <td>None</td>\n",
              "      <td>2003</td>\n",
              "      <td>S. Curling</td>\n",
              "      <td>1997</td>\n",
              "      <td>153</td>\n",
              "      <td>13</td>\n",
              "      <td>13</td>\n",
              "      <td>080</td>\n",
              "      <td>IRE</td>\n",
              "      <td>Wensum Dancer</td>\n",
              "      <td>None</td>\n",
              "      <td>FR</td>\n",
              "      <td>NaN</td>\n",
              "      <td>S. Curling</td>\n",
              "      <td>19</td>\n",
              "      <td>c20200324clo/00844018.jpg</td>\n",
              "      <td>1980</td>\n",
              "      <td>USA</td>\n",
              "      <td>300</td>\n",
              "      <td>b</td>\n",
              "      <td>m</td>\n",
              "      <td>Carlotamix</td>\n",
              "      <td>2020-03-24 13:44:14.827</td>\n",
              "    </tr>\n",
              "    <tr>\n",
              "      <th>15</th>\n",
              "      <td>0.0</td>\n",
              "      <td>Carriealice</td>\n",
              "      <td>25013914</td>\n",
              "      <td>16.0</td>\n",
              "      <td>pounds</td>\n",
              "      <td>Royal blue, red braces and sleeves, striped cap</td>\n",
              "      <td>25013914</td>\n",
              "      <td>1</td>\n",
              "      <td>5</td>\n",
              "      <td>IRE</td>\n",
              "      <td>Mr Combustible</td>\n",
              "      <td>B. Browne</td>\n",
              "      <td>NaN</td>\n",
              "      <td>hood</td>\n",
              "      <td>2001</td>\n",
              "      <td>Shane Nolan</td>\n",
              "      <td>2005</td>\n",
              "      <td>153</td>\n",
              "      <td>11</td>\n",
              "      <td>11</td>\n",
              "      <td>70</td>\n",
              "      <td>IRE</td>\n",
              "      <td>Woodvilla Last</td>\n",
              "      <td>5</td>\n",
              "      <td>USA</td>\n",
              "      <td>NaN</td>\n",
              "      <td>Mr Peter Cribbin</td>\n",
              "      <td>16</td>\n",
              "      <td>c20200324clo/00034386.jpg</td>\n",
              "      <td>1998</td>\n",
              "      <td>IRE</td>\n",
              "      <td>300</td>\n",
              "      <td>b</td>\n",
              "      <td>m</td>\n",
              "      <td>Mustameet</td>\n",
              "      <td>2020-03-24 13:44:14.827</td>\n",
              "    </tr>\n",
              "    <tr>\n",
              "      <th>16</th>\n",
              "      <td>0.0</td>\n",
              "      <td>Western Dreaming</td>\n",
              "      <td>26615399</td>\n",
              "      <td>17.0</td>\n",
              "      <td>pounds</td>\n",
              "      <td>Royal blue, red epaulettes, red stars on sleev...</td>\n",
              "      <td>26615399</td>\n",
              "      <td>1</td>\n",
              "      <td>5</td>\n",
              "      <td>IRE</td>\n",
              "      <td>Elusive City</td>\n",
              "      <td>Reserve</td>\n",
              "      <td>NaN</td>\n",
              "      <td>tongue strap</td>\n",
              "      <td>1999</td>\n",
              "      <td>Patrick Breen</td>\n",
              "      <td>2010</td>\n",
              "      <td>160</td>\n",
              "      <td>17</td>\n",
              "      <td>17</td>\n",
              "      <td>88</td>\n",
              "      <td>FR</td>\n",
              "      <td>Rose Memory</td>\n",
              "      <td>None</td>\n",
              "      <td>IRE</td>\n",
              "      <td>NaN</td>\n",
              "      <td>Patrick Breen</td>\n",
              "      <td>20</td>\n",
              "      <td>c20200324clo/00078792.jpg</td>\n",
              "      <td>2000</td>\n",
              "      <td>USA</td>\n",
              "      <td>497</td>\n",
              "      <td>b</td>\n",
              "      <td>g</td>\n",
              "      <td>High Chaparral</td>\n",
              "      <td>2020-03-24 13:44:14.827</td>\n",
              "    </tr>\n",
              "    <tr>\n",
              "      <th>17</th>\n",
              "      <td>0.0</td>\n",
              "      <td>Different Beat</td>\n",
              "      <td>27072317</td>\n",
              "      <td>18.0</td>\n",
              "      <td>pounds</td>\n",
              "      <td>Red, white panel, striped sleeves and cap</td>\n",
              "      <td>27072317</td>\n",
              "      <td>1</td>\n",
              "      <td>5</td>\n",
              "      <td>IRE</td>\n",
              "      <td>Ali-Royal</td>\n",
              "      <td>Reserve</td>\n",
              "      <td>NaN</td>\n",
              "      <td>None</td>\n",
              "      <td>1997</td>\n",
              "      <td>Shay Slevin</td>\n",
              "      <td>1999</td>\n",
              "      <td>153</td>\n",
              "      <td>19</td>\n",
              "      <td>19</td>\n",
              "      <td>900</td>\n",
              "      <td>IRE</td>\n",
              "      <td>Cherry Falls</td>\n",
              "      <td>None</td>\n",
              "      <td>UK</td>\n",
              "      <td>NaN</td>\n",
              "      <td>Mrs E. Slevin</td>\n",
              "      <td>75</td>\n",
              "      <td>c20200324clo/00018942.jpg</td>\n",
              "      <td>1993</td>\n",
              "      <td>IRE</td>\n",
              "      <td>499</td>\n",
              "      <td>b</td>\n",
              "      <td>m</td>\n",
              "      <td>Beat Hollow</td>\n",
              "      <td>2020-03-24 13:44:14.827</td>\n",
              "    </tr>\n",
              "    <tr>\n",
              "      <th>18</th>\n",
              "      <td>0.0</td>\n",
              "      <td>Kopon</td>\n",
              "      <td>27488784</td>\n",
              "      <td>19.0</td>\n",
              "      <td>pounds</td>\n",
              "      <td>Maroon and white stripes, pink cap</td>\n",
              "      <td>27488784</td>\n",
              "      <td>1</td>\n",
              "      <td>5</td>\n",
              "      <td>IRE</td>\n",
              "      <td>Montelimar</td>\n",
              "      <td>Reserve</td>\n",
              "      <td>NaN</td>\n",
              "      <td>None</td>\n",
              "      <td>2000</td>\n",
              "      <td>G. A. Kingston</td>\n",
              "      <td>1998</td>\n",
              "      <td>153</td>\n",
              "      <td>18</td>\n",
              "      <td>18</td>\n",
              "      <td>97</td>\n",
              "      <td>IRE</td>\n",
              "      <td>Kopoosha</td>\n",
              "      <td>None</td>\n",
              "      <td>IRE</td>\n",
              "      <td>NaN</td>\n",
              "      <td>Mr Dominic J. Jones</td>\n",
              "      <td>16</td>\n",
              "      <td>c20200324clo/00043568.jpg</td>\n",
              "      <td>1981</td>\n",
              "      <td>USA</td>\n",
              "      <td>498</td>\n",
              "      <td>ch</td>\n",
              "      <td>m</td>\n",
              "      <td>Doyen</td>\n",
              "      <td>2020-03-24 13:44:14.827</td>\n",
              "    </tr>\n",
              "  </tbody>\n",
              "</table>\n",
              "</div>"
            ],
            "text/plain": [
              "    handicap        runnerName  ...  metadata.SIRE_NAME                     time\n",
              "0        0.0            Farmix  ...            Al Namix  2020-03-24 13:44:14.827\n",
              "1        0.0      Florrie Webb  ...        Prince Flori  2020-03-24 13:44:14.827\n",
              "2        0.0      Coolagh Park  ...            Kapgarde  2020-03-24 13:44:14.827\n",
              "3        0.0      Jack Hackett  ...         Beat Hollow  2020-03-24 13:44:14.827\n",
              "4        0.0        Rebel Gold  ...           Gold Well  2020-03-24 13:44:14.827\n",
              "5        0.0         Satin Sun  ...              Mahler  2020-03-24 13:44:14.827\n",
              "6        0.0  She Tops The Lot  ...               Yeats  2020-03-24 13:44:14.827\n",
              "7        0.0  Justfortherecord  ...               Milan  2020-03-24 13:44:14.827\n",
              "8        0.0      Giftedtokate  ...            Scorpion  2020-03-24 13:44:14.827\n",
              "9        0.0    Boghlone Honey  ...              Jeremy  2020-03-24 13:44:14.827\n",
              "10       0.0     Cornhill Lass  ...            Scorpion  2020-03-24 13:44:14.827\n",
              "11       0.0   Morning Glisten  ...              Elzaam  2020-03-24 13:44:14.827\n",
              "12       0.0      Kerrymaygold  ...            Scorpion  2020-03-24 13:44:14.827\n",
              "13       0.0       Gone Racing  ...             Getaway  2020-03-24 13:44:14.827\n",
              "14       0.0      Miss Sophiea  ...          Carlotamix  2020-03-24 13:44:14.827\n",
              "15       0.0       Carriealice  ...           Mustameet  2020-03-24 13:44:14.827\n",
              "16       0.0  Western Dreaming  ...      High Chaparral  2020-03-24 13:44:14.827\n",
              "17       0.0    Different Beat  ...         Beat Hollow  2020-03-24 13:44:14.827\n",
              "18       0.0             Kopon  ...               Doyen  2020-03-24 13:44:14.827\n",
              "\n",
              "[19 rows x 36 columns]"
            ]
          },
          "metadata": {
            "tags": []
          },
          "execution_count": 352
        }
      ]
    },
    {
      "cell_type": "code",
      "metadata": {
        "id": "qCMEVGhxC54J",
        "colab_type": "code",
        "colab": {
          "base_uri": "https://localhost:8080/",
          "height": 34
        },
        "outputId": "838cb629-546d-4e6a-b4d3-a4ee9ecee4ad"
      },
      "source": [
        "# number of participants  \n",
        "num_part = exchange_desc.selectionId.nunique()\n",
        "print('There are',num_part,'participants at the race')"
      ],
      "execution_count": null,
      "outputs": [
        {
          "output_type": "stream",
          "text": [
            "There are 19 participants at the race\n"
          ],
          "name": "stdout"
        }
      ]
    },
    {
      "cell_type": "code",
      "metadata": {
        "id": "DQda-UyyWXd_",
        "colab_type": "code",
        "colab": {
          "base_uri": "https://localhost:8080/",
          "height": 119
        },
        "outputId": "9ba2dee3-b273-4699-feee-133b8a0ea500"
      },
      "source": [
        "print('Participants name list: \\n', exchange_desc.runnerName.unique())"
      ],
      "execution_count": null,
      "outputs": [
        {
          "output_type": "stream",
          "text": [
            "Participants name list: \n",
            " ['Farmix' 'Florrie Webb' 'Coolagh Park' 'Jack Hackett' 'Rebel Gold'\n",
            " 'Satin Sun' 'She Tops The Lot' 'Justfortherecord' 'Giftedtokate'\n",
            " 'Boghlone Honey' 'Cornhill Lass' 'Morning Glisten' 'Kerrymaygold'\n",
            " 'Gone Racing' 'Miss Sophiea' 'Carriealice' 'Western Dreaming'\n",
            " 'Different Beat' 'Kopon']\n"
          ],
          "name": "stdout"
        }
      ]
    },
    {
      "cell_type": "code",
      "metadata": {
        "id": "5JZJBbe-HKNd",
        "colab_type": "code",
        "colab": {
          "base_uri": "https://localhost:8080/",
          "height": 374
        },
        "outputId": "6fef74f4-0af9-4cf8-a813-1b9faec97199"
      },
      "source": [
        "selectionId = exchange_desc.selectionId\n",
        "print('Participants identification Id \\n', selectionId)"
      ],
      "execution_count": null,
      "outputs": [
        {
          "output_type": "stream",
          "text": [
            "Participants identification Id \n",
            " 0     27157433\n",
            "1     25013915\n",
            "2     24044533\n",
            "3     23225592\n",
            "4     26986439\n",
            "5     28095568\n",
            "6     28247531\n",
            "7     28247530\n",
            "8     28232003\n",
            "9     27915468\n",
            "10    26831220\n",
            "11    28041063\n",
            "12    24707404\n",
            "13    24245268\n",
            "14    27382103\n",
            "15    25013914\n",
            "16    26615399\n",
            "17    27072317\n",
            "18    27488784\n",
            "Name: selectionId, dtype: int64\n"
          ],
          "name": "stdout"
        }
      ]
    },
    {
      "cell_type": "markdown",
      "metadata": {
        "id": "CTxvo3h1Lxau",
        "colab_type": "text"
      },
      "source": [
        "### **Implied** **Probability**"
      ]
    },
    {
      "cell_type": "code",
      "metadata": {
        "id": "vPiY7K6XDt8j",
        "colab_type": "code",
        "colab": {
          "base_uri": "https://localhost:8080/",
          "height": 740
        },
        "outputId": "8542a5d5-ee03-483f-c608-234bb8ea6daf"
      },
      "source": [
        "# extract implied probability from forecast price  \n",
        "implied_prob = exchange_desc[['selectionId','metadata.runnerId','runnerName','metadata.FORECASTPRICE_NUMERATOR','metadata.FORECASTPRICE_DENOMINATOR']]\n",
        "implied_prob['impliedProb %'] = round(exchange_desc['metadata.FORECASTPRICE_DENOMINATOR'].astype(float) / (exchange_desc['metadata.FORECASTPRICE_NUMERATOR'].astype(float) + exchange_desc['metadata.FORECASTPRICE_DENOMINATOR'].astype(float)),4) * 100\n",
        "implied_prob"
      ],
      "execution_count": null,
      "outputs": [
        {
          "output_type": "stream",
          "text": [
            "/usr/local/lib/python3.6/dist-packages/ipykernel_launcher.py:3: SettingWithCopyWarning: \n",
            "A value is trying to be set on a copy of a slice from a DataFrame.\n",
            "Try using .loc[row_indexer,col_indexer] = value instead\n",
            "\n",
            "See the caveats in the documentation: https://pandas.pydata.org/pandas-docs/stable/user_guide/indexing.html#returning-a-view-versus-a-copy\n",
            "  This is separate from the ipykernel package so we can avoid doing imports until\n"
          ],
          "name": "stderr"
        },
        {
          "output_type": "execute_result",
          "data": {
            "text/html": [
              "<div>\n",
              "<style scoped>\n",
              "    .dataframe tbody tr th:only-of-type {\n",
              "        vertical-align: middle;\n",
              "    }\n",
              "\n",
              "    .dataframe tbody tr th {\n",
              "        vertical-align: top;\n",
              "    }\n",
              "\n",
              "    .dataframe thead th {\n",
              "        text-align: right;\n",
              "    }\n",
              "</style>\n",
              "<table border=\"1\" class=\"dataframe\">\n",
              "  <thead>\n",
              "    <tr style=\"text-align: right;\">\n",
              "      <th></th>\n",
              "      <th>selectionId</th>\n",
              "      <th>metadata.runnerId</th>\n",
              "      <th>runnerName</th>\n",
              "      <th>metadata.FORECASTPRICE_NUMERATOR</th>\n",
              "      <th>metadata.FORECASTPRICE_DENOMINATOR</th>\n",
              "      <th>impliedProb %</th>\n",
              "    </tr>\n",
              "  </thead>\n",
              "  <tbody>\n",
              "    <tr>\n",
              "      <th>0</th>\n",
              "      <td>27157433</td>\n",
              "      <td>27157433</td>\n",
              "      <td>Farmix</td>\n",
              "      <td>2</td>\n",
              "      <td>1</td>\n",
              "      <td>33.33</td>\n",
              "    </tr>\n",
              "    <tr>\n",
              "      <th>1</th>\n",
              "      <td>25013915</td>\n",
              "      <td>25013915</td>\n",
              "      <td>Florrie Webb</td>\n",
              "      <td>4</td>\n",
              "      <td>1</td>\n",
              "      <td>20.00</td>\n",
              "    </tr>\n",
              "    <tr>\n",
              "      <th>2</th>\n",
              "      <td>24044533</td>\n",
              "      <td>24044533</td>\n",
              "      <td>Coolagh Park</td>\n",
              "      <td>4</td>\n",
              "      <td>1</td>\n",
              "      <td>20.00</td>\n",
              "    </tr>\n",
              "    <tr>\n",
              "      <th>3</th>\n",
              "      <td>23225592</td>\n",
              "      <td>23225592</td>\n",
              "      <td>Jack Hackett</td>\n",
              "      <td>22</td>\n",
              "      <td>1</td>\n",
              "      <td>4.35</td>\n",
              "    </tr>\n",
              "    <tr>\n",
              "      <th>4</th>\n",
              "      <td>26986439</td>\n",
              "      <td>26986439</td>\n",
              "      <td>Rebel Gold</td>\n",
              "      <td>12</td>\n",
              "      <td>1</td>\n",
              "      <td>7.69</td>\n",
              "    </tr>\n",
              "    <tr>\n",
              "      <th>5</th>\n",
              "      <td>28095568</td>\n",
              "      <td>28095568</td>\n",
              "      <td>Satin Sun</td>\n",
              "      <td>20</td>\n",
              "      <td>1</td>\n",
              "      <td>4.76</td>\n",
              "    </tr>\n",
              "    <tr>\n",
              "      <th>6</th>\n",
              "      <td>28247531</td>\n",
              "      <td>28247531</td>\n",
              "      <td>She Tops The Lot</td>\n",
              "      <td>20</td>\n",
              "      <td>1</td>\n",
              "      <td>4.76</td>\n",
              "    </tr>\n",
              "    <tr>\n",
              "      <th>7</th>\n",
              "      <td>28247530</td>\n",
              "      <td>28247530</td>\n",
              "      <td>Justfortherecord</td>\n",
              "      <td>50</td>\n",
              "      <td>1</td>\n",
              "      <td>1.96</td>\n",
              "    </tr>\n",
              "    <tr>\n",
              "      <th>8</th>\n",
              "      <td>28232003</td>\n",
              "      <td>28232003</td>\n",
              "      <td>Giftedtokate</td>\n",
              "      <td>28</td>\n",
              "      <td>1</td>\n",
              "      <td>3.45</td>\n",
              "    </tr>\n",
              "    <tr>\n",
              "      <th>9</th>\n",
              "      <td>27915468</td>\n",
              "      <td>27915468</td>\n",
              "      <td>Boghlone Honey</td>\n",
              "      <td>150</td>\n",
              "      <td>1</td>\n",
              "      <td>0.66</td>\n",
              "    </tr>\n",
              "    <tr>\n",
              "      <th>10</th>\n",
              "      <td>26831220</td>\n",
              "      <td>26831220</td>\n",
              "      <td>Cornhill Lass</td>\n",
              "      <td>80</td>\n",
              "      <td>1</td>\n",
              "      <td>1.23</td>\n",
              "    </tr>\n",
              "    <tr>\n",
              "      <th>11</th>\n",
              "      <td>28041063</td>\n",
              "      <td>28041063</td>\n",
              "      <td>Morning Glisten</td>\n",
              "      <td>300</td>\n",
              "      <td>1</td>\n",
              "      <td>0.33</td>\n",
              "    </tr>\n",
              "    <tr>\n",
              "      <th>12</th>\n",
              "      <td>24707404</td>\n",
              "      <td>24707404</td>\n",
              "      <td>Kerrymaygold</td>\n",
              "      <td>66</td>\n",
              "      <td>1</td>\n",
              "      <td>1.49</td>\n",
              "    </tr>\n",
              "    <tr>\n",
              "      <th>13</th>\n",
              "      <td>24245268</td>\n",
              "      <td>24245268</td>\n",
              "      <td>Gone Racing</td>\n",
              "      <td>125</td>\n",
              "      <td>1</td>\n",
              "      <td>0.79</td>\n",
              "    </tr>\n",
              "    <tr>\n",
              "      <th>14</th>\n",
              "      <td>27382103</td>\n",
              "      <td>27382103</td>\n",
              "      <td>Miss Sophiea</td>\n",
              "      <td>300</td>\n",
              "      <td>1</td>\n",
              "      <td>0.33</td>\n",
              "    </tr>\n",
              "    <tr>\n",
              "      <th>15</th>\n",
              "      <td>25013914</td>\n",
              "      <td>25013914</td>\n",
              "      <td>Carriealice</td>\n",
              "      <td>300</td>\n",
              "      <td>1</td>\n",
              "      <td>0.33</td>\n",
              "    </tr>\n",
              "    <tr>\n",
              "      <th>16</th>\n",
              "      <td>26615399</td>\n",
              "      <td>26615399</td>\n",
              "      <td>Western Dreaming</td>\n",
              "      <td>497</td>\n",
              "      <td>1</td>\n",
              "      <td>0.20</td>\n",
              "    </tr>\n",
              "    <tr>\n",
              "      <th>17</th>\n",
              "      <td>27072317</td>\n",
              "      <td>27072317</td>\n",
              "      <td>Different Beat</td>\n",
              "      <td>499</td>\n",
              "      <td>1</td>\n",
              "      <td>0.20</td>\n",
              "    </tr>\n",
              "    <tr>\n",
              "      <th>18</th>\n",
              "      <td>27488784</td>\n",
              "      <td>27488784</td>\n",
              "      <td>Kopon</td>\n",
              "      <td>498</td>\n",
              "      <td>1</td>\n",
              "      <td>0.20</td>\n",
              "    </tr>\n",
              "  </tbody>\n",
              "</table>\n",
              "</div>"
            ],
            "text/plain": [
              "    selectionId  ... impliedProb %\n",
              "0      27157433  ...         33.33\n",
              "1      25013915  ...         20.00\n",
              "2      24044533  ...         20.00\n",
              "3      23225592  ...          4.35\n",
              "4      26986439  ...          7.69\n",
              "5      28095568  ...          4.76\n",
              "6      28247531  ...          4.76\n",
              "7      28247530  ...          1.96\n",
              "8      28232003  ...          3.45\n",
              "9      27915468  ...          0.66\n",
              "10     26831220  ...          1.23\n",
              "11     28041063  ...          0.33\n",
              "12     24707404  ...          1.49\n",
              "13     24245268  ...          0.79\n",
              "14     27382103  ...          0.33\n",
              "15     25013914  ...          0.33\n",
              "16     26615399  ...          0.20\n",
              "17     27072317  ...          0.20\n",
              "18     27488784  ...          0.20\n",
              "\n",
              "[19 rows x 6 columns]"
            ]
          },
          "metadata": {
            "tags": []
          },
          "execution_count": 356
        }
      ]
    },
    {
      "cell_type": "code",
      "metadata": {
        "id": "wZn9H3NvD6ed",
        "colab_type": "code",
        "colab": {
          "base_uri": "https://localhost:8080/",
          "height": 34
        },
        "outputId": "a2968e8d-4d5b-40f8-b73c-bde76d7420e3"
      },
      "source": [
        "# market overround is 6.06%\n",
        "overround = implied_prob['impliedProb %'].sum()\n",
        "print('Market overround is', overround)"
      ],
      "execution_count": null,
      "outputs": [
        {
          "output_type": "stream",
          "text": [
            "Market overround is 106.06\n"
          ],
          "name": "stdout"
        }
      ]
    },
    {
      "cell_type": "markdown",
      "metadata": {
        "id": "RmjVEWM8EAoY",
        "colab_type": "text"
      },
      "source": [
        "### **Exchange** **time** **series** **data**"
      ]
    },
    {
      "cell_type": "code",
      "metadata": {
        "id": "nS06XSc9SsTr",
        "colab_type": "code",
        "colab": {
          "base_uri": "https://localhost:8080/",
          "height": 326
        },
        "outputId": "655ed17e-76d6-48ee-8dba-7f9d40183131"
      },
      "source": [
        "# select data after descriptive rows\n",
        "data = exchange.iloc[38:].to_dict(orient='record')\n",
        "\n",
        "# flat first level json keys\n",
        "exchange_first = pd.json_normalize(data,record_path=[\"app_data\", \"runners\"],meta=['time'])\n",
        "exchange_first = pd.DataFrame(exchange_first)\n",
        "exchange_first.head()"
      ],
      "execution_count": null,
      "outputs": [
        {
          "output_type": "execute_result",
          "data": {
            "text/html": [
              "<div>\n",
              "<style scoped>\n",
              "    .dataframe tbody tr th:only-of-type {\n",
              "        vertical-align: middle;\n",
              "    }\n",
              "\n",
              "    .dataframe tbody tr th {\n",
              "        vertical-align: top;\n",
              "    }\n",
              "\n",
              "    .dataframe thead th {\n",
              "        text-align: right;\n",
              "    }\n",
              "</style>\n",
              "<table border=\"1\" class=\"dataframe\">\n",
              "  <thead>\n",
              "    <tr style=\"text-align: right;\">\n",
              "      <th></th>\n",
              "      <th>status</th>\n",
              "      <th>handicap</th>\n",
              "      <th>selectionId</th>\n",
              "      <th>sp</th>\n",
              "      <th>removalDate</th>\n",
              "      <th>matches</th>\n",
              "      <th>totalMatched</th>\n",
              "      <th>adjustmentFactor</th>\n",
              "      <th>orders</th>\n",
              "      <th>lastPriceTraded</th>\n",
              "      <th>ex.availableToBack</th>\n",
              "      <th>ex.availableToLay</th>\n",
              "      <th>ex.tradedVolume</th>\n",
              "      <th>time</th>\n",
              "    </tr>\n",
              "  </thead>\n",
              "  <tbody>\n",
              "    <tr>\n",
              "      <th>0</th>\n",
              "      <td>ACTIVE</td>\n",
              "      <td>0.0</td>\n",
              "      <td>27157433</td>\n",
              "      <td>None</td>\n",
              "      <td>None</td>\n",
              "      <td>None</td>\n",
              "      <td>91921.56</td>\n",
              "      <td>35.680</td>\n",
              "      <td>None</td>\n",
              "      <td>2.8</td>\n",
              "      <td>[{'price': 2.8, 'size': 758.77}, {'price': 2.7...</td>\n",
              "      <td>[{'price': 2.8200000000000003, 'size': 527.87}...</td>\n",
              "      <td>[]</td>\n",
              "      <td>2020-03-24 13:44:19.589</td>\n",
              "    </tr>\n",
              "    <tr>\n",
              "      <th>1</th>\n",
              "      <td>ACTIVE</td>\n",
              "      <td>0.0</td>\n",
              "      <td>25013915</td>\n",
              "      <td>None</td>\n",
              "      <td>None</td>\n",
              "      <td>None</td>\n",
              "      <td>46584.33</td>\n",
              "      <td>20.408</td>\n",
              "      <td>None</td>\n",
              "      <td>4.6</td>\n",
              "      <td>[{'price': 4.6, 'size': 394.81}, {'price': 4.5...</td>\n",
              "      <td>[{'price': 4.7, 'size': 845.85}, {'price': 4.8...</td>\n",
              "      <td>[]</td>\n",
              "      <td>2020-03-24 13:44:19.589</td>\n",
              "    </tr>\n",
              "    <tr>\n",
              "      <th>2</th>\n",
              "      <td>ACTIVE</td>\n",
              "      <td>0.0</td>\n",
              "      <td>24044533</td>\n",
              "      <td>None</td>\n",
              "      <td>None</td>\n",
              "      <td>None</td>\n",
              "      <td>25376.59</td>\n",
              "      <td>20.000</td>\n",
              "      <td>None</td>\n",
              "      <td>5.0</td>\n",
              "      <td>[{'price': 5.0, 'size': 684.19}, {'price': 4.9...</td>\n",
              "      <td>[{'price': 5.1, 'size': 683.0}, {'price': 5.2,...</td>\n",
              "      <td>[]</td>\n",
              "      <td>2020-03-24 13:44:19.589</td>\n",
              "    </tr>\n",
              "    <tr>\n",
              "      <th>3</th>\n",
              "      <td>ACTIVE</td>\n",
              "      <td>0.0</td>\n",
              "      <td>23225592</td>\n",
              "      <td>None</td>\n",
              "      <td>None</td>\n",
              "      <td>None</td>\n",
              "      <td>10172.94</td>\n",
              "      <td>7.692</td>\n",
              "      <td>None</td>\n",
              "      <td>13.0</td>\n",
              "      <td>[{'price': 13.0, 'size': 138.89}, {'price': 12...</td>\n",
              "      <td>[{'price': 13.5, 'size': 245.91}, {'price': 14...</td>\n",
              "      <td>[]</td>\n",
              "      <td>2020-03-24 13:44:19.589</td>\n",
              "    </tr>\n",
              "    <tr>\n",
              "      <th>4</th>\n",
              "      <td>ACTIVE</td>\n",
              "      <td>0.0</td>\n",
              "      <td>26986439</td>\n",
              "      <td>None</td>\n",
              "      <td>None</td>\n",
              "      <td>None</td>\n",
              "      <td>12026.35</td>\n",
              "      <td>7.407</td>\n",
              "      <td>None</td>\n",
              "      <td>12.5</td>\n",
              "      <td>[{'price': 12.5, 'size': 97.23}, {'price': 12....</td>\n",
              "      <td>[{'price': 13.0, 'size': 182.51}, {'price': 13...</td>\n",
              "      <td>[]</td>\n",
              "      <td>2020-03-24 13:44:19.589</td>\n",
              "    </tr>\n",
              "  </tbody>\n",
              "</table>\n",
              "</div>"
            ],
            "text/plain": [
              "   status  handicap  ...  ex.tradedVolume                     time\n",
              "0  ACTIVE       0.0  ...               []  2020-03-24 13:44:19.589\n",
              "1  ACTIVE       0.0  ...               []  2020-03-24 13:44:19.589\n",
              "2  ACTIVE       0.0  ...               []  2020-03-24 13:44:19.589\n",
              "3  ACTIVE       0.0  ...               []  2020-03-24 13:44:19.589\n",
              "4  ACTIVE       0.0  ...               []  2020-03-24 13:44:19.589\n",
              "\n",
              "[5 rows x 14 columns]"
            ]
          },
          "metadata": {
            "tags": []
          },
          "execution_count": 358
        }
      ]
    },
    {
      "cell_type": "markdown",
      "metadata": {
        "id": "Cf3LWEGfNT-C",
        "colab_type": "text"
      },
      "source": [
        "Columns 'matches' , 'availableToBack' , 'availableToLay' are further nested within 'runners' key. Will expand them later as required"
      ]
    },
    {
      "cell_type": "markdown",
      "metadata": {
        "id": "53WqL3noDbah",
        "colab_type": "text"
      },
      "source": [
        "### **Task 1 summarise and describe our trading**"
      ]
    },
    {
      "cell_type": "markdown",
      "metadata": {
        "id": "OVeiGY6bOm6j",
        "colab_type": "text"
      },
      "source": [
        "Following is an analysis of the market and it's microstructure followed by seamLess trading analysis"
      ]
    },
    {
      "cell_type": "markdown",
      "metadata": {
        "id": "VdCDBxQx5ZJt",
        "colab_type": "text"
      },
      "source": [
        "**Market** **analysis**"
      ]
    },
    {
      "cell_type": "code",
      "metadata": {
        "id": "PsU7BYLHDZ9D",
        "colab_type": "code",
        "colab": {
          "base_uri": "https://localhost:8080/",
          "height": 289
        },
        "outputId": "e58180c8-df22-4616-af41-29336ee4a3ed"
      },
      "source": [
        "# expand 'matches' path\n",
        "exchange_trades = pd.json_normalize(data,record_path=[\"app_data\",'runners','matches'],meta=[['app_data','runners','lastPriceTraded'],['app_data','runners','totalMatched'],\n",
        "                                                                                             ['app_data','lastMatchTime'],['time'],['app_data','runners','selectionId']])\n",
        "\n",
        "# cols to drop \n",
        "cols = ['matchDate','matchId','betId']\n",
        "exchange_trades.drop(cols, inplace=True, axis=1)\n",
        "exchange_trades.sort_values('size').tail()"
      ],
      "execution_count": null,
      "outputs": [
        {
          "output_type": "execute_result",
          "data": {
            "text/html": [
              "<div>\n",
              "<style scoped>\n",
              "    .dataframe tbody tr th:only-of-type {\n",
              "        vertical-align: middle;\n",
              "    }\n",
              "\n",
              "    .dataframe tbody tr th {\n",
              "        vertical-align: top;\n",
              "    }\n",
              "\n",
              "    .dataframe thead th {\n",
              "        text-align: right;\n",
              "    }\n",
              "</style>\n",
              "<table border=\"1\" class=\"dataframe\">\n",
              "  <thead>\n",
              "    <tr style=\"text-align: right;\">\n",
              "      <th></th>\n",
              "      <th>price</th>\n",
              "      <th>side</th>\n",
              "      <th>size</th>\n",
              "      <th>app_data.runners.lastPriceTraded</th>\n",
              "      <th>app_data.runners.totalMatched</th>\n",
              "      <th>app_data.lastMatchTime</th>\n",
              "      <th>time</th>\n",
              "      <th>app_data.runners.selectionId</th>\n",
              "    </tr>\n",
              "  </thead>\n",
              "  <tbody>\n",
              "    <tr>\n",
              "      <th>2829</th>\n",
              "      <td>4.943918</td>\n",
              "      <td>LAY</td>\n",
              "      <td>2175.89</td>\n",
              "      <td>4.7</td>\n",
              "      <td>130240</td>\n",
              "      <td>2020-03-24T13:59:11.412000</td>\n",
              "      <td>2020-03-24 13:59:11.639</td>\n",
              "      <td>25013915</td>\n",
              "    </tr>\n",
              "    <tr>\n",
              "      <th>5128</th>\n",
              "      <td>4.943918</td>\n",
              "      <td>LAY</td>\n",
              "      <td>2175.89</td>\n",
              "      <td>4.7</td>\n",
              "      <td>140311</td>\n",
              "      <td>2020-03-24T14:00:11.211000</td>\n",
              "      <td>2020-03-24 14:00:11.471</td>\n",
              "      <td>25013915</td>\n",
              "    </tr>\n",
              "    <tr>\n",
              "      <th>2818</th>\n",
              "      <td>4.943918</td>\n",
              "      <td>LAY</td>\n",
              "      <td>2175.89</td>\n",
              "      <td>4.7</td>\n",
              "      <td>130158</td>\n",
              "      <td>2020-03-24T13:59:11.118000</td>\n",
              "      <td>2020-03-24 13:59:11.410</td>\n",
              "      <td>25013915</td>\n",
              "    </tr>\n",
              "    <tr>\n",
              "      <th>2862</th>\n",
              "      <td>4.943918</td>\n",
              "      <td>LAY</td>\n",
              "      <td>2175.89</td>\n",
              "      <td>4.8</td>\n",
              "      <td>130280</td>\n",
              "      <td>2020-03-24T13:59:12.115000</td>\n",
              "      <td>2020-03-24 13:59:12.483</td>\n",
              "      <td>25013915</td>\n",
              "    </tr>\n",
              "    <tr>\n",
              "      <th>5040</th>\n",
              "      <td>4.943918</td>\n",
              "      <td>LAY</td>\n",
              "      <td>2175.89</td>\n",
              "      <td>4.6</td>\n",
              "      <td>139872</td>\n",
              "      <td>2020-03-24T14:00:08.886000</td>\n",
              "      <td>2020-03-24 14:00:09.250</td>\n",
              "      <td>25013915</td>\n",
              "    </tr>\n",
              "  </tbody>\n",
              "</table>\n",
              "</div>"
            ],
            "text/plain": [
              "         price side  ...                     time app_data.runners.selectionId\n",
              "2829  4.943918  LAY  ...  2020-03-24 13:59:11.639                     25013915\n",
              "5128  4.943918  LAY  ...  2020-03-24 14:00:11.471                     25013915\n",
              "2818  4.943918  LAY  ...  2020-03-24 13:59:11.410                     25013915\n",
              "2862  4.943918  LAY  ...  2020-03-24 13:59:12.483                     25013915\n",
              "5040  4.943918  LAY  ...  2020-03-24 14:00:09.250                     25013915\n",
              "\n",
              "[5 rows x 8 columns]"
            ]
          },
          "metadata": {
            "tags": []
          },
          "execution_count": 360
        }
      ]
    },
    {
      "cell_type": "code",
      "metadata": {
        "id": "df8kM2rAmO7Y",
        "colab_type": "code",
        "colab": {
          "base_uri": "https://localhost:8080/",
          "height": 51
        },
        "outputId": "b371f368-db44-4e0f-f502-dcdd02a3c5ad"
      },
      "source": [
        "time_start = exchange_trades['time'].iloc[:1]\n",
        "print(\"Log time start is {}\" .format(time_start))"
      ],
      "execution_count": null,
      "outputs": [
        {
          "output_type": "stream",
          "text": [
            "Log time start is 0    2020-03-24 13:57:05.728\n",
            "Name: time, dtype: object\n"
          ],
          "name": "stdout"
        }
      ]
    },
    {
      "cell_type": "code",
      "metadata": {
        "id": "vuthGqEVnGix",
        "colab_type": "code",
        "colab": {
          "base_uri": "https://localhost:8080/",
          "height": 34
        },
        "outputId": "818a123e-82d7-4f89-e43f-cb347d98f11e"
      },
      "source": [
        "time_end = exchange_trades['time'].iloc[-1]\n",
        "print(\"Log time end is {}\" .format(time_end))"
      ],
      "execution_count": null,
      "outputs": [
        {
          "output_type": "stream",
          "text": [
            "Log time end is 2020-03-24 14:00:29.721\n"
          ],
          "name": "stdout"
        }
      ]
    },
    {
      "cell_type": "code",
      "metadata": {
        "id": "pjFVk5DM13aG",
        "colab_type": "code",
        "colab": {
          "base_uri": "https://localhost:8080/",
          "height": 34
        },
        "outputId": "a3124ddc-b5a1-476f-c3ab-e415591e8aca"
      },
      "source": [
        "traded_names = exchange_trades['app_data.runners.selectionId'].nunique()\n",
        "print('Number of traded names in this timeframe is {}' .format(traded_names))"
      ],
      "execution_count": null,
      "outputs": [
        {
          "output_type": "stream",
          "text": [
            "Number of traded names in this timeframe is 11\n"
          ],
          "name": "stdout"
        }
      ]
    },
    {
      "cell_type": "code",
      "metadata": {
        "id": "oIvuraGx1km2",
        "colab_type": "code",
        "colab": {
          "base_uri": "https://localhost:8080/",
          "height": 34
        },
        "outputId": "cf6cdd66-5cca-467b-a452-04ee3f9c2578"
      },
      "source": [
        "num_orders = exchange_trades.shape[0]\n",
        "print('Number of orders sent in this timeframe is {}'.format(num_orders))"
      ],
      "execution_count": null,
      "outputs": [
        {
          "output_type": "stream",
          "text": [
            "Number of orders sent in this timeframe is 5941\n"
          ],
          "name": "stdout"
        }
      ]
    },
    {
      "cell_type": "code",
      "metadata": {
        "id": "0y7g0vp42U6t",
        "colab_type": "code",
        "colab": {
          "base_uri": "https://localhost:8080/",
          "height": 34
        },
        "outputId": "797e241a-c2bd-4376-a26e-40fed1dde992"
      },
      "source": [
        "tot_exec = exchange_trades['size'].sum()\n",
        "print('Notional of orders sent in this timeframe is {}'.format(tot_exec))"
      ],
      "execution_count": null,
      "outputs": [
        {
          "output_type": "stream",
          "text": [
            "Notional of orders sent in this timeframe is 2209933.42\n"
          ],
          "name": "stdout"
        }
      ]
    },
    {
      "cell_type": "code",
      "metadata": {
        "id": "wdoQEOEpYc_1",
        "colab_type": "code",
        "colab": {
          "base_uri": "https://localhost:8080/",
          "height": 34
        },
        "outputId": "b42f7072-310d-4409-bf70-32f2075a072f"
      },
      "source": [
        "mean_size = exchange_trades['size'].mean()\n",
        "print('Average order size is {}'.format(round((mean_size),2)))"
      ],
      "execution_count": null,
      "outputs": [
        {
          "output_type": "stream",
          "text": [
            "Average order size is 371.98\n"
          ],
          "name": "stdout"
        }
      ]
    },
    {
      "cell_type": "code",
      "metadata": {
        "id": "w5BTPerBbokA",
        "colab_type": "code",
        "colab": {
          "base_uri": "https://localhost:8080/",
          "height": 427
        },
        "outputId": "3fa46ddb-ab28-4dfe-9f60-61d5b930b782"
      },
      "source": [
        "exchange_trades['size'].hist()\n",
        "plt.title('Order size distribution')\n",
        "plt.xlabel('Order size amount')\n",
        "plt.ylabel('Number of orders')"
      ],
      "execution_count": null,
      "outputs": [
        {
          "output_type": "execute_result",
          "data": {
            "text/plain": [
              "Text(0, 0.5, 'Number of orders')"
            ]
          },
          "metadata": {
            "tags": []
          },
          "execution_count": 367
        },
        {
          "output_type": "display_data",
          "data": {
            "image/png": "[encoded data removed]",
            "text/plain": [
              "<Figure size 1008x432 with 1 Axes>"
            ]
          },
          "metadata": {
            "tags": []
          }
        }
      ]
    },
    {
      "cell_type": "markdown",
      "metadata": {
        "id": "YzRm9d2zdSJV",
        "colab_type": "text"
      },
      "source": [
        "Average order size is  371.98. Order size is not normally distributed with long left tail. Far end of the curve is populatd by large lay orders of size \t2175.89 on selectionId  '25013915'\n",
        "\n"
      ]
    },
    {
      "cell_type": "code",
      "metadata": {
        "id": "Gn01Yd6nbTgn",
        "colab_type": "code",
        "colab": {
          "base_uri": "https://localhost:8080/",
          "height": 34
        },
        "outputId": "1da44f8f-cf7c-4981-a1e5-6960d0d21791"
      },
      "source": [
        "exec_size_std = exchange_trades['size'].std()\n",
        "print('Order size standard deviation is', round((exec_size_std),2))"
      ],
      "execution_count": null,
      "outputs": [
        {
          "output_type": "stream",
          "text": [
            "Order size standard deviation is 589.17\n"
          ],
          "name": "stdout"
        }
      ]
    },
    {
      "cell_type": "code",
      "metadata": {
        "id": "CHA_FBddVP-M",
        "colab_type": "code",
        "colab": {
          "base_uri": "https://localhost:8080/",
          "height": 204
        },
        "outputId": "bd468e06-5589-4e1c-9d08-2f25dd09d09c"
      },
      "source": [
        "# total traded volume by name \n",
        "selectionId_traded = [27157433, 25013915, 24044533, 23225592, 26986439, 28095568, 28247531,28232003, 27915468, 24707404, 24245268]\n",
        "\n",
        "for runner in selectionId_traded:\n",
        "  tot_matched = exchange_trades[exchange_trades['app_data.runners.selectionId'] == runner]['app_data.runners.totalMatched'].iloc[-1]\n",
        "  print('Selection ID {} total traded volume is {}' .format(runner, tot_matched))"
      ],
      "execution_count": null,
      "outputs": [
        {
          "output_type": "stream",
          "text": [
            "Selection ID 27157433 total traded volume is 439806.92\n",
            "Selection ID 25013915 total traded volume is 141372.19\n",
            "Selection ID 24044533 total traded volume is 85635.27\n",
            "Selection ID 23225592 total traded volume is 32792.63\n",
            "Selection ID 26986439 total traded volume is 40808.55\n",
            "Selection ID 28095568 total traded volume is 18683.92\n",
            "Selection ID 28247531 total traded volume is 2273.98\n",
            "Selection ID 28232003 total traded volume is 1460.29\n",
            "Selection ID 27915468 total traded volume is 1145.46\n",
            "Selection ID 24707404 total traded volume is 579.95\n",
            "Selection ID 24245268 total traded volume is 450.52\n"
          ],
          "name": "stdout"
        }
      ]
    },
    {
      "cell_type": "markdown",
      "metadata": {
        "id": "7T5AH93Iqrzo",
        "colab_type": "text"
      },
      "source": [
        "Selection ID 27157433 traded approx 440k which is 3x more than the second. Below plot illustrates the difference in volume traded by race participants. Volume is > 0 at the start because matches occured prior to logs start \n"
      ]
    },
    {
      "cell_type": "code",
      "metadata": {
        "id": "p5sR8_NsDaCL",
        "colab_type": "code",
        "colab": {
          "base_uri": "https://localhost:8080/",
          "height": 410
        },
        "outputId": "0dd97ec1-8e47-4775-e2da-e73c83964934"
      },
      "source": [
        "for runner in selectionId_traded:\n",
        "  runner_vol = exchange_trades[exchange_trades['app_data.runners.selectionId'] == runner]['app_data.runners.totalMatched'].plot()\n",
        "  plt.title('Total traded volume by race participants')\n",
        "  plt.xlabel('Iteration')\n",
        "  plt.ylabel('Volume traded')\n",
        "  plt.legend(exchange_desc['runnerName']) \n"
      ],
      "execution_count": null,
      "outputs": [
        {
          "output_type": "display_data",
          "data": {
            "image/png": "[encoded data removed]",
            "text/plain": [
              "<Figure size 1008x432 with 1 Axes>"
            ]
          },
          "metadata": {
            "tags": []
          }
        }
      ]
    },
    {
      "cell_type": "markdown",
      "metadata": {
        "id": "C10sl6YWtHRp",
        "colab_type": "text"
      },
      "source": [
        "**Order** **books** **liquidity**"
      ]
    },
    {
      "cell_type": "markdown",
      "metadata": {
        "id": "7Pu0Hht2u3NM",
        "colab_type": "text"
      },
      "source": [
        "Below are the order books of top 3 traded names "
      ]
    },
    {
      "cell_type": "markdown",
      "metadata": {
        "id": "hBwJv4tb0TNl",
        "colab_type": "text"
      },
      "source": [
        "**Farmix** "
      ]
    },
    {
      "cell_type": "code",
      "metadata": {
        "id": "WFfs8kH2Lsv7",
        "colab_type": "code",
        "colab": {}
      },
      "source": [
        "# extract lay timeseries price data\n",
        "exchange_lay = pd.json_normalize(data,record_path=[\"app_data\", \"runners\",\"ex\",\"availableToLay\"],meta=[['time'],['app_data','runners','selectionId']])\n",
        "exchange_lay = pd.DataFrame(exchange_lay)\n",
        "\n",
        "# get farmix lay side of order book at the start of the period \n",
        "farmix_lay = exchange_lay[exchange_lay['app_data.runners.selectionId'] == 27157433].set_index('app_data.runners.selectionId')\n",
        "farmix_lay = farmix_lay.rename(columns={\"price\": \"lay\", \"size\": \"lay size\",\"app_data.runners.selectionId\":\"selectionId\"}).head(3)[['lay','lay size']]"
      ],
      "execution_count": null,
      "outputs": []
    },
    {
      "cell_type": "code",
      "metadata": {
        "id": "Kj6eo-ZRzOoq",
        "colab_type": "code",
        "colab": {}
      },
      "source": [
        "# extract back timeseries price data\n",
        "exchange_back = pd.json_normalize(data,record_path=[\"app_data\", \"runners\",\"ex\",\"availableToBack\"],meta=[['time'],['app_data','runners','selectionId']])\n",
        "exchange_back = pd.DataFrame(exchange_back)\n",
        "\n",
        "# get farmix back side of order book at the start of the period \n",
        "fermix_back = exchange_back[exchange_back['app_data.runners.selectionId'] == 27157433].set_index('app_data.runners.selectionId')\n",
        "farmix_back = fermix_back.rename(columns={\"price\": \"back\", \"size\": \"back size\",\"app_data.runners.selectionId\":\"selectionId\"}).head(3)[['back size','back']]"
      ],
      "execution_count": null,
      "outputs": []
    },
    {
      "cell_type": "code",
      "metadata": {
        "id": "_9LtdMP8zO0u",
        "colab_type": "code",
        "colab": {
          "base_uri": "https://localhost:8080/",
          "height": 173
        },
        "outputId": "b0eda7ba-ed62-4536-dfd8-fba478a68366"
      },
      "source": [
        "# concat farmix lay and back \n",
        "farmix_book = pd.concat([farmix_back, farmix_lay], axis=1)\n",
        "farmix_book"
      ],
      "execution_count": null,
      "outputs": [
        {
          "output_type": "execute_result",
          "data": {
            "text/html": [
              "<div>\n",
              "<style scoped>\n",
              "    .dataframe tbody tr th:only-of-type {\n",
              "        vertical-align: middle;\n",
              "    }\n",
              "\n",
              "    .dataframe tbody tr th {\n",
              "        vertical-align: top;\n",
              "    }\n",
              "\n",
              "    .dataframe thead th {\n",
              "        text-align: right;\n",
              "    }\n",
              "</style>\n",
              "<table border=\"1\" class=\"dataframe\">\n",
              "  <thead>\n",
              "    <tr style=\"text-align: right;\">\n",
              "      <th></th>\n",
              "      <th>back size</th>\n",
              "      <th>back</th>\n",
              "      <th>lay</th>\n",
              "      <th>lay size</th>\n",
              "    </tr>\n",
              "    <tr>\n",
              "      <th>app_data.runners.selectionId</th>\n",
              "      <th></th>\n",
              "      <th></th>\n",
              "      <th></th>\n",
              "      <th></th>\n",
              "    </tr>\n",
              "  </thead>\n",
              "  <tbody>\n",
              "    <tr>\n",
              "      <th>27157433</th>\n",
              "      <td>758.77</td>\n",
              "      <td>2.80</td>\n",
              "      <td>2.82</td>\n",
              "      <td>527.87</td>\n",
              "    </tr>\n",
              "    <tr>\n",
              "      <th>27157433</th>\n",
              "      <td>603.55</td>\n",
              "      <td>2.78</td>\n",
              "      <td>2.84</td>\n",
              "      <td>845.77</td>\n",
              "    </tr>\n",
              "    <tr>\n",
              "      <th>27157433</th>\n",
              "      <td>572.23</td>\n",
              "      <td>2.76</td>\n",
              "      <td>2.86</td>\n",
              "      <td>615.48</td>\n",
              "    </tr>\n",
              "  </tbody>\n",
              "</table>\n",
              "</div>"
            ],
            "text/plain": [
              "                              back size  back   lay  lay size\n",
              "app_data.runners.selectionId                                 \n",
              "27157433                         758.77  2.80  2.82    527.87\n",
              "27157433                         603.55  2.78  2.84    845.77\n",
              "27157433                         572.23  2.76  2.86    615.48"
            ]
          },
          "metadata": {
            "tags": []
          },
          "execution_count": 373
        }
      ]
    },
    {
      "cell_type": "code",
      "metadata": {
        "id": "SPl1GxxO4FVG",
        "colab_type": "code",
        "colab": {
          "base_uri": "https://localhost:8080/",
          "height": 102
        },
        "outputId": "e061fc70-064d-4ea8-91a4-59b7686954bb"
      },
      "source": [
        "farmix_spread = (farmix_book['lay'].iloc[0] - farmix_book['back'].iloc[0])\n",
        "farmix_liq_back = farmix_book['back size'].sum()\n",
        "farmix_liq_lay = farmix_book['lay size'].sum()\n",
        "\n",
        "print('Farmix order book spread in {:.2f} ticks wide'.format(farmix_spread))\n",
        "print('Farmix BACK liquidity at touch is {}'.format(farmix_book['back size'].iloc[0]))\n",
        "print('Farmix LAY liquidity at touch is {}'.format(farmix_book['lay size'].iloc[0]))\n",
        "print('Farmix BACK liquidity across first three price lavels is {}'.format(farmix_liq_back))\n",
        "print('Farmix BACK liquidity across first three price lavels is {}'.format(farmix_liq_lay))"
      ],
      "execution_count": null,
      "outputs": [
        {
          "output_type": "stream",
          "text": [
            "Farmix order book spread in 0.02 ticks wide\n",
            "Farmix BACK liquidity at touch is 758.77\n",
            "Farmix LAY liquidity at touch is 527.87\n",
            "Farmix BACK liquidity across first three price lavels is 1934.55\n",
            "Farmix BACK liquidity across first three price lavels is 1989.12\n"
          ],
          "name": "stdout"
        }
      ]
    },
    {
      "cell_type": "markdown",
      "metadata": {
        "id": "qU7llK0l0cZI",
        "colab_type": "text"
      },
      "source": [
        "**Florrie** **Webb**"
      ]
    },
    {
      "cell_type": "code",
      "metadata": {
        "id": "a7Hj_imlzO5X",
        "colab_type": "code",
        "colab": {}
      },
      "source": [
        "# get florrie lay side of order book at the start of the period \n",
        "florrie_lay = exchange_lay[exchange_lay['app_data.runners.selectionId'] == 25013915].set_index('app_data.runners.selectionId')\n",
        "florrie_lay = florrie_lay.rename(columns={\"price\": \"lay\", \"size\": \"lay size\",\"app_data.runners.selectionId\":\"selectionId\"}).head(3)[['lay','lay size']]"
      ],
      "execution_count": null,
      "outputs": []
    },
    {
      "cell_type": "code",
      "metadata": {
        "id": "MZF6YkdFzO93",
        "colab_type": "code",
        "colab": {}
      },
      "source": [
        "# get florrie back side of order book at the start of the period \n",
        "florrie_back = exchange_back[exchange_back['app_data.runners.selectionId'] == 25013915].set_index('app_data.runners.selectionId')\n",
        "florrie_back = florrie_back.rename(columns={\"price\": \"back\", \"size\": \"back size\",\"app_data.runners.selectionId\":\"selectionId\"}).head(3)[['back size','back']]"
      ],
      "execution_count": null,
      "outputs": []
    },
    {
      "cell_type": "code",
      "metadata": {
        "id": "jEZsnHRP340h",
        "colab_type": "code",
        "colab": {
          "base_uri": "https://localhost:8080/",
          "height": 173
        },
        "outputId": "b724922e-ea9c-4a6b-e2f0-9557f6d86e3f"
      },
      "source": [
        "# concat florrie lay and back \n",
        "florrie_book = pd.concat([florrie_back, florrie_lay], axis=1)\n",
        "florrie_book"
      ],
      "execution_count": null,
      "outputs": [
        {
          "output_type": "execute_result",
          "data": {
            "text/html": [
              "<div>\n",
              "<style scoped>\n",
              "    .dataframe tbody tr th:only-of-type {\n",
              "        vertical-align: middle;\n",
              "    }\n",
              "\n",
              "    .dataframe tbody tr th {\n",
              "        vertical-align: top;\n",
              "    }\n",
              "\n",
              "    .dataframe thead th {\n",
              "        text-align: right;\n",
              "    }\n",
              "</style>\n",
              "<table border=\"1\" class=\"dataframe\">\n",
              "  <thead>\n",
              "    <tr style=\"text-align: right;\">\n",
              "      <th></th>\n",
              "      <th>back size</th>\n",
              "      <th>back</th>\n",
              "      <th>lay</th>\n",
              "      <th>lay size</th>\n",
              "    </tr>\n",
              "    <tr>\n",
              "      <th>app_data.runners.selectionId</th>\n",
              "      <th></th>\n",
              "      <th></th>\n",
              "      <th></th>\n",
              "      <th></th>\n",
              "    </tr>\n",
              "  </thead>\n",
              "  <tbody>\n",
              "    <tr>\n",
              "      <th>25013915</th>\n",
              "      <td>394.81</td>\n",
              "      <td>4.6</td>\n",
              "      <td>4.7</td>\n",
              "      <td>845.85</td>\n",
              "    </tr>\n",
              "    <tr>\n",
              "      <th>25013915</th>\n",
              "      <td>534.15</td>\n",
              "      <td>4.5</td>\n",
              "      <td>4.8</td>\n",
              "      <td>485.50</td>\n",
              "    </tr>\n",
              "    <tr>\n",
              "      <th>25013915</th>\n",
              "      <td>430.82</td>\n",
              "      <td>4.4</td>\n",
              "      <td>4.9</td>\n",
              "      <td>574.64</td>\n",
              "    </tr>\n",
              "  </tbody>\n",
              "</table>\n",
              "</div>"
            ],
            "text/plain": [
              "                              back size  back  lay  lay size\n",
              "app_data.runners.selectionId                                \n",
              "25013915                         394.81   4.6  4.7    845.85\n",
              "25013915                         534.15   4.5  4.8    485.50\n",
              "25013915                         430.82   4.4  4.9    574.64"
            ]
          },
          "metadata": {
            "tags": []
          },
          "execution_count": 377
        }
      ]
    },
    {
      "cell_type": "code",
      "metadata": {
        "id": "dcLi4K2o6z2r",
        "colab_type": "code",
        "colab": {
          "base_uri": "https://localhost:8080/",
          "height": 102
        },
        "outputId": "894c487b-f89f-4e33-c146-3f046ae2d4b0"
      },
      "source": [
        "florrie_spread = (florrie_book['lay'].iloc[0] - florrie_book['back'].iloc[0])\n",
        "florrie_liq_back = florrie_book['back size'].sum()\n",
        "florrie_liq_lay = florrie_book['lay size'].sum()\n",
        "\n",
        "print('Florrie order book spread in {:.2f} ticks wide'.format(florrie_spread))\n",
        "print('Florrie BACK liquidity at touch is {}'.format(florrie_book['back size'].iloc[0]))\n",
        "print('Florrie LAY liquidity at touch is {}'.format(florrie_book['lay size'].iloc[0]))\n",
        "print('Florrie BACK liquidity across first three price lavels is {}'.format(florrie_liq_back))\n",
        "print('Florrie LAY liquidity across first three price lavels is {:2f}'.format(florrie_liq_lay))"
      ],
      "execution_count": null,
      "outputs": [
        {
          "output_type": "stream",
          "text": [
            "Florrie order book spread in 0.10 ticks wide\n",
            "Florrie BACK liquidity at touch is 394.81\n",
            "Florrie LAY liquidity at touch is 845.85\n",
            "Florrie BACK liquidity across first three price lavels is 1359.78\n",
            "Florrie LAY liquidity across first three price lavels is 1905.990000\n"
          ],
          "name": "stdout"
        }
      ]
    },
    {
      "cell_type": "markdown",
      "metadata": {
        "id": "M1ECckLU03I8",
        "colab_type": "text"
      },
      "source": [
        "**Coolagh** **Park**"
      ]
    },
    {
      "cell_type": "code",
      "metadata": {
        "id": "vhzxcvEUzO78",
        "colab_type": "code",
        "colab": {}
      },
      "source": [
        "# get coolagh lay side of order book at the start of the period \n",
        "coolagh_lay = exchange_lay[exchange_lay['app_data.runners.selectionId'] == 24044533].set_index('app_data.runners.selectionId')\n",
        "coolagh_lay = coolagh_lay.rename(columns={\"price\": \"lay\", \"size\": \"lay size\",\"app_data.runners.selectionId\":\"selectionId\"}).head(3)[['lay','lay size']]"
      ],
      "execution_count": null,
      "outputs": []
    },
    {
      "cell_type": "code",
      "metadata": {
        "id": "WWuFusT5zO3o",
        "colab_type": "code",
        "colab": {}
      },
      "source": [
        "# get coolagh back side of order book at the start of the period \n",
        "coolagh_back = exchange_back[exchange_back['app_data.runners.selectionId'] == 24044533].set_index('app_data.runners.selectionId')\n",
        "coolagh_back = coolagh_back.rename(columns={\"price\": \"back\", \"size\": \"back size\",\"app_data.runners.selectionId\":\"selectionId\"}).head(3)[['back size','back']]"
      ],
      "execution_count": null,
      "outputs": []
    },
    {
      "cell_type": "code",
      "metadata": {
        "id": "xoQ7IY0C1GyH",
        "colab_type": "code",
        "colab": {
          "base_uri": "https://localhost:8080/",
          "height": 173
        },
        "outputId": "9aa91bae-4188-4947-8601-7567b78525df"
      },
      "source": [
        "# concat coolagh lay and back \n",
        "coolagh_book = pd.concat([coolagh_back, coolagh_lay], axis=1)\n",
        "coolagh_book"
      ],
      "execution_count": null,
      "outputs": [
        {
          "output_type": "execute_result",
          "data": {
            "text/html": [
              "<div>\n",
              "<style scoped>\n",
              "    .dataframe tbody tr th:only-of-type {\n",
              "        vertical-align: middle;\n",
              "    }\n",
              "\n",
              "    .dataframe tbody tr th {\n",
              "        vertical-align: top;\n",
              "    }\n",
              "\n",
              "    .dataframe thead th {\n",
              "        text-align: right;\n",
              "    }\n",
              "</style>\n",
              "<table border=\"1\" class=\"dataframe\">\n",
              "  <thead>\n",
              "    <tr style=\"text-align: right;\">\n",
              "      <th></th>\n",
              "      <th>back size</th>\n",
              "      <th>back</th>\n",
              "      <th>lay</th>\n",
              "      <th>lay size</th>\n",
              "    </tr>\n",
              "    <tr>\n",
              "      <th>app_data.runners.selectionId</th>\n",
              "      <th></th>\n",
              "      <th></th>\n",
              "      <th></th>\n",
              "      <th></th>\n",
              "    </tr>\n",
              "  </thead>\n",
              "  <tbody>\n",
              "    <tr>\n",
              "      <th>24044533</th>\n",
              "      <td>684.19</td>\n",
              "      <td>5.0</td>\n",
              "      <td>5.1</td>\n",
              "      <td>683.00</td>\n",
              "    </tr>\n",
              "    <tr>\n",
              "      <th>24044533</th>\n",
              "      <td>485.88</td>\n",
              "      <td>4.9</td>\n",
              "      <td>5.2</td>\n",
              "      <td>286.40</td>\n",
              "    </tr>\n",
              "    <tr>\n",
              "      <th>24044533</th>\n",
              "      <td>151.40</td>\n",
              "      <td>4.8</td>\n",
              "      <td>5.3</td>\n",
              "      <td>159.05</td>\n",
              "    </tr>\n",
              "  </tbody>\n",
              "</table>\n",
              "</div>"
            ],
            "text/plain": [
              "                              back size  back  lay  lay size\n",
              "app_data.runners.selectionId                                \n",
              "24044533                         684.19   5.0  5.1    683.00\n",
              "24044533                         485.88   4.9  5.2    286.40\n",
              "24044533                         151.40   4.8  5.3    159.05"
            ]
          },
          "metadata": {
            "tags": []
          },
          "execution_count": 381
        }
      ]
    },
    {
      "cell_type": "code",
      "metadata": {
        "id": "hRV-UyjN7UQR",
        "colab_type": "code",
        "colab": {
          "base_uri": "https://localhost:8080/",
          "height": 102
        },
        "outputId": "f67d19ad-38cb-4675-b26e-131de20c16aa"
      },
      "source": [
        "coolagh_spread = (coolagh_book['lay'].iloc[0] - coolagh_book['back'].iloc[0])\n",
        "coolagh_liq_back = coolagh_book['back size'].sum()\n",
        "coolagh_liq_lay = coolagh_book['lay size'].sum()\n",
        "\n",
        "print('Coolagh order book spread in {:.2f} ticks wide'.format(coolagh_spread))\n",
        "print('Coolagh BACK liquidity at touch is {}'.format(coolagh_book['back size'].iloc[0]))\n",
        "print('Coolagh LAY liquidity at touch is {}'.format(coolagh_book['lay size'].iloc[0]))\n",
        "print('Coolagh BACK liquidity across first three price lavels is {:2f}'.format(coolagh_liq_back))\n",
        "print('Coolagh LAY liquidity across first three price lavels is {:2f}'.format(coolagh_liq_lay))"
      ],
      "execution_count": null,
      "outputs": [
        {
          "output_type": "stream",
          "text": [
            "Coolagh order book spread in 0.10 ticks wide\n",
            "Coolagh BACK liquidity at touch is 684.19\n",
            "Coolagh LAY liquidity at touch is 683.0\n",
            "Coolagh BACK liquidity across first three price lavels is 1321.470000\n",
            "Coolagh LAY liquidity across first three price lavels is 1128.450000\n"
          ],
          "name": "stdout"
        }
      ]
    },
    {
      "cell_type": "markdown",
      "metadata": {
        "id": "quIbILPV53oL",
        "colab_type": "text"
      },
      "source": [
        "**SeamLess Trading**"
      ]
    },
    {
      "cell_type": "code",
      "metadata": {
        "id": "Fr2wXDZL58kC",
        "colab_type": "code",
        "colab": {
          "base_uri": "https://localhost:8080/",
          "height": 309
        },
        "outputId": "7444871d-28e8-40d2-d92c-17901d332e1a"
      },
      "source": [
        "# exctract seamLess orders and fills \n",
        "brokers_df = pd.json_normalize(brokers.to_dict(orient='record'),record_path=[['app_data','instructionReports']])\n",
        "brokers_df.tail()"
      ],
      "execution_count": null,
      "outputs": [
        {
          "output_type": "execute_result",
          "data": {
            "text/html": [
              "<div>\n",
              "<style scoped>\n",
              "    .dataframe tbody tr th:only-of-type {\n",
              "        vertical-align: middle;\n",
              "    }\n",
              "\n",
              "    .dataframe tbody tr th {\n",
              "        vertical-align: top;\n",
              "    }\n",
              "\n",
              "    .dataframe thead th {\n",
              "        text-align: right;\n",
              "    }\n",
              "</style>\n",
              "<table border=\"1\" class=\"dataframe\">\n",
              "  <thead>\n",
              "    <tr style=\"text-align: right;\">\n",
              "      <th></th>\n",
              "      <th>status</th>\n",
              "      <th>sizeMatched</th>\n",
              "      <th>betId</th>\n",
              "      <th>orderStatus</th>\n",
              "      <th>placedDate</th>\n",
              "      <th>averagePriceMatched</th>\n",
              "      <th>instruction.orderType</th>\n",
              "      <th>instruction.selectionId</th>\n",
              "      <th>instruction.limitOrder.price</th>\n",
              "      <th>instruction.limitOrder.persistenceType</th>\n",
              "      <th>instruction.limitOrder.size</th>\n",
              "      <th>instruction.side</th>\n",
              "      <th>errorCode</th>\n",
              "      <th>sizeCancelled</th>\n",
              "      <th>cancelledDate</th>\n",
              "      <th>instruction.betId</th>\n",
              "      <th>instruction.sizeReduction</th>\n",
              "      <th>instruction.limitOrder.timeInForce</th>\n",
              "      <th>instruction.limitOrder.minFillSize</th>\n",
              "    </tr>\n",
              "  </thead>\n",
              "  <tbody>\n",
              "    <tr>\n",
              "      <th>1202</th>\n",
              "      <td>SUCCESS</td>\n",
              "      <td>19.04</td>\n",
              "      <td>198774883942</td>\n",
              "      <td>EXECUTION_COMPLETE</td>\n",
              "      <td>2020-03-24T14:00:07.000Z</td>\n",
              "      <td>45.57563</td>\n",
              "      <td>LIMIT</td>\n",
              "      <td>28095568.0</td>\n",
              "      <td>46.0</td>\n",
              "      <td>NaN</td>\n",
              "      <td>31.62</td>\n",
              "      <td>LAY</td>\n",
              "      <td>NaN</td>\n",
              "      <td>NaN</td>\n",
              "      <td>NaN</td>\n",
              "      <td>NaN</td>\n",
              "      <td>NaN</td>\n",
              "      <td>FILL_OR_KILL</td>\n",
              "      <td>0.01</td>\n",
              "    </tr>\n",
              "    <tr>\n",
              "      <th>1203</th>\n",
              "      <td>SUCCESS</td>\n",
              "      <td>0.00</td>\n",
              "      <td>198774884112</td>\n",
              "      <td>EXPIRED</td>\n",
              "      <td>2020-03-24T14:00:08.000Z</td>\n",
              "      <td>0.00000</td>\n",
              "      <td>LIMIT</td>\n",
              "      <td>28095568.0</td>\n",
              "      <td>44.0</td>\n",
              "      <td>NaN</td>\n",
              "      <td>4.04</td>\n",
              "      <td>LAY</td>\n",
              "      <td>NaN</td>\n",
              "      <td>NaN</td>\n",
              "      <td>NaN</td>\n",
              "      <td>NaN</td>\n",
              "      <td>NaN</td>\n",
              "      <td>FILL_OR_KILL</td>\n",
              "      <td>0.01</td>\n",
              "    </tr>\n",
              "    <tr>\n",
              "      <th>1204</th>\n",
              "      <td>SUCCESS</td>\n",
              "      <td>3.23</td>\n",
              "      <td>198774884322</td>\n",
              "      <td>EXECUTION_COMPLETE</td>\n",
              "      <td>2020-03-24T14:00:08.000Z</td>\n",
              "      <td>38.00000</td>\n",
              "      <td>LIMIT</td>\n",
              "      <td>28095568.0</td>\n",
              "      <td>46.0</td>\n",
              "      <td>NaN</td>\n",
              "      <td>3.23</td>\n",
              "      <td>LAY</td>\n",
              "      <td>NaN</td>\n",
              "      <td>NaN</td>\n",
              "      <td>NaN</td>\n",
              "      <td>NaN</td>\n",
              "      <td>NaN</td>\n",
              "      <td>FILL_OR_KILL</td>\n",
              "      <td>0.01</td>\n",
              "    </tr>\n",
              "    <tr>\n",
              "      <th>1205</th>\n",
              "      <td>SUCCESS</td>\n",
              "      <td>8.48</td>\n",
              "      <td>198774884667</td>\n",
              "      <td>EXECUTION_COMPLETE</td>\n",
              "      <td>2020-03-24T14:00:08.000Z</td>\n",
              "      <td>38.00000</td>\n",
              "      <td>LIMIT</td>\n",
              "      <td>28095568.0</td>\n",
              "      <td>38.0</td>\n",
              "      <td>NaN</td>\n",
              "      <td>8.48</td>\n",
              "      <td>LAY</td>\n",
              "      <td>NaN</td>\n",
              "      <td>NaN</td>\n",
              "      <td>NaN</td>\n",
              "      <td>NaN</td>\n",
              "      <td>NaN</td>\n",
              "      <td>FILL_OR_KILL</td>\n",
              "      <td>0.01</td>\n",
              "    </tr>\n",
              "    <tr>\n",
              "      <th>1206</th>\n",
              "      <td>SUCCESS</td>\n",
              "      <td>11.66</td>\n",
              "      <td>198774884886</td>\n",
              "      <td>EXECUTION_COMPLETE</td>\n",
              "      <td>2020-03-24T14:00:09.000Z</td>\n",
              "      <td>38.00000</td>\n",
              "      <td>LIMIT</td>\n",
              "      <td>28095568.0</td>\n",
              "      <td>40.0</td>\n",
              "      <td>NaN</td>\n",
              "      <td>11.66</td>\n",
              "      <td>LAY</td>\n",
              "      <td>NaN</td>\n",
              "      <td>NaN</td>\n",
              "      <td>NaN</td>\n",
              "      <td>NaN</td>\n",
              "      <td>NaN</td>\n",
              "      <td>FILL_OR_KILL</td>\n",
              "      <td>0.01</td>\n",
              "    </tr>\n",
              "  </tbody>\n",
              "</table>\n",
              "</div>"
            ],
            "text/plain": [
              "       status  ...  instruction.limitOrder.minFillSize\n",
              "1202  SUCCESS  ...                                0.01\n",
              "1203  SUCCESS  ...                                0.01\n",
              "1204  SUCCESS  ...                                0.01\n",
              "1205  SUCCESS  ...                                0.01\n",
              "1206  SUCCESS  ...                                0.01\n",
              "\n",
              "[5 rows x 19 columns]"
            ]
          },
          "metadata": {
            "tags": []
          },
          "execution_count": 383
        }
      ]
    },
    {
      "cell_type": "code",
      "metadata": {
        "id": "nJkLcuxyAR4x",
        "colab_type": "code",
        "colab": {
          "base_uri": "https://localhost:8080/",
          "height": 34
        },
        "outputId": "bae2513a-b759-4503-feb8-93d47741af5b"
      },
      "source": [
        "# list of order status\n",
        "brokers_df.orderStatus.unique()"
      ],
      "execution_count": null,
      "outputs": [
        {
          "output_type": "execute_result",
          "data": {
            "text/plain": [
              "array(['EXECUTABLE', 'EXECUTION_COMPLETE', nan, 'EXPIRED'], dtype=object)"
            ]
          },
          "metadata": {
            "tags": []
          },
          "execution_count": 384
        }
      ]
    },
    {
      "cell_type": "code",
      "metadata": {
        "id": "MTdTrUfJ4eSv",
        "colab_type": "code",
        "colab": {
          "base_uri": "https://localhost:8080/",
          "height": 34
        },
        "outputId": "247915f3-731e-4d27-8b42-eed115788b6b"
      },
      "source": [
        "# number of orders\n",
        "tot_orders = brokers_df[brokers_df['orderStatus'] == 'EXECUTABLE'].shape[0]\n",
        "print('Number of executable orders sent out is {}'.format(tot_orders))"
      ],
      "execution_count": null,
      "outputs": [
        {
          "output_type": "stream",
          "text": [
            "Number of executable orders sent out is 709\n"
          ],
          "name": "stdout"
        }
      ]
    },
    {
      "cell_type": "code",
      "metadata": {
        "id": "AQdR0Yp06u39",
        "colab_type": "code",
        "colab": {
          "base_uri": "https://localhost:8080/",
          "height": 34
        },
        "outputId": "ee8f5634-f216-4e54-a31c-e11cd94e9b43"
      },
      "source": [
        "# number of cancelled orders \n",
        "canc_orders = brokers_df[brokers_df['sizeCancelled'] > 0.001]\n",
        "print('Number of cancelled orders is {}'. format(canc_orders.shape[0]))"
      ],
      "execution_count": null,
      "outputs": [
        {
          "output_type": "stream",
          "text": [
            "Number of cancelled orders is 412\n"
          ],
          "name": "stdout"
        }
      ]
    },
    {
      "cell_type": "code",
      "metadata": {
        "id": "qqe5_5j9-mB-",
        "colab_type": "code",
        "colab": {
          "base_uri": "https://localhost:8080/",
          "height": 34
        },
        "outputId": "1406f4ab-a4d0-466d-f8f5-734fbd39d6f1"
      },
      "source": [
        "# total exec \n",
        "tot_fills = brokers_df[brokers_df['orderStatus'] == 'EXECUTION_COMPLETE'].shape[0]\n",
        "print('Number of executed orders is {}'.format(tot_fills))"
      ],
      "execution_count": null,
      "outputs": [
        {
          "output_type": "stream",
          "text": [
            "Number of executed orders is 68\n"
          ],
          "name": "stdout"
        }
      ]
    },
    {
      "cell_type": "code",
      "metadata": {
        "id": "J0tzNOLB94m2",
        "colab_type": "code",
        "colab": {
          "base_uri": "https://localhost:8080/",
          "height": 34
        },
        "outputId": "b5816862-4da3-4e7e-f7f7-e26b0b39e3fc"
      },
      "source": [
        "filled_names = brokers_df[brokers_df['orderStatus'] == 'EXECUTION_COMPLETE']['instruction.selectionId'].nunique()\n",
        "print('These {} orders were executed across {} different names'.format(tot_fills,filled_names))"
      ],
      "execution_count": null,
      "outputs": [
        {
          "output_type": "stream",
          "text": [
            "These 68 orders were executed across 6 different names\n"
          ],
          "name": "stdout"
        }
      ]
    },
    {
      "cell_type": "code",
      "metadata": {
        "id": "Zi3O0o5d_RCH",
        "colab_type": "code",
        "colab": {
          "base_uri": "https://localhost:8080/",
          "height": 51
        },
        "outputId": "f99f8eae-9095-410c-db29-20b6d29047e7"
      },
      "source": [
        "# names orders sent  \n",
        "num_traded = brokers_df['instruction.selectionId'].nunique()\n",
        "not_filled = num_traded - filled_names\n",
        "print('Orders were sent across {} different names' .format(num_traded))\n",
        "print('Therefore on {} names orders were not filled'.format(not_filled))"
      ],
      "execution_count": null,
      "outputs": [
        {
          "output_type": "stream",
          "text": [
            "Orders were sent across 11 different names\n",
            "Therefore on 5 names orders were not filled\n"
          ],
          "name": "stdout"
        }
      ]
    },
    {
      "cell_type": "code",
      "metadata": {
        "id": "Mj0Eq2X957vo",
        "colab_type": "code",
        "colab": {
          "base_uri": "https://localhost:8080/",
          "height": 34
        },
        "outputId": "787203d1-1d25-41a0-a90d-17864cd9fffb"
      },
      "source": [
        "# order fill ratio percentage \n",
        "orderFill = round((tot_fills / tot_orders),4) * 100\n",
        "print('Order fill ratio is {} %' .format(orderFill))"
      ],
      "execution_count": null,
      "outputs": [
        {
          "output_type": "stream",
          "text": [
            "Order fill ratio is 9.59 %\n"
          ],
          "name": "stdout"
        }
      ]
    },
    {
      "cell_type": "code",
      "metadata": {
        "id": "-PyWx0fX-8Ns",
        "colab_type": "code",
        "colab": {
          "base_uri": "https://localhost:8080/",
          "height": 34
        },
        "outputId": "fd179b78-1fb4-48cf-f78d-9d32b2fa3dd2"
      },
      "source": [
        "# tot size orders sent out \n",
        "order_size = brokers_df['instruction.limitOrder.size'].sum()\n",
        "print('Total size of orders sent out is {:2f}' .format(order_size))"
      ],
      "execution_count": null,
      "outputs": [
        {
          "output_type": "stream",
          "text": [
            "Total size of orders sent out is 14628.750000\n"
          ],
          "name": "stdout"
        }
      ]
    },
    {
      "cell_type": "markdown",
      "metadata": {
        "id": "bQ4CPgQVm3Rc",
        "colab_type": "text"
      },
      "source": [
        "**Fill** **analysis**"
      ]
    },
    {
      "cell_type": "code",
      "metadata": {
        "id": "37DXalzKV2XM",
        "colab_type": "code",
        "colab": {
          "base_uri": "https://localhost:8080/",
          "height": 309
        },
        "outputId": "ed466984-31a9-4689-a62c-5a39e2576137"
      },
      "source": [
        "# get executed orders \n",
        "fills = brokers_df[brokers_df['orderStatus'] == 'EXECUTION_COMPLETE']\n",
        "fills.head()"
      ],
      "execution_count": null,
      "outputs": [
        {
          "output_type": "execute_result",
          "data": {
            "text/html": [
              "<div>\n",
              "<style scoped>\n",
              "    .dataframe tbody tr th:only-of-type {\n",
              "        vertical-align: middle;\n",
              "    }\n",
              "\n",
              "    .dataframe tbody tr th {\n",
              "        vertical-align: top;\n",
              "    }\n",
              "\n",
              "    .dataframe thead th {\n",
              "        text-align: right;\n",
              "    }\n",
              "</style>\n",
              "<table border=\"1\" class=\"dataframe\">\n",
              "  <thead>\n",
              "    <tr style=\"text-align: right;\">\n",
              "      <th></th>\n",
              "      <th>status</th>\n",
              "      <th>sizeMatched</th>\n",
              "      <th>betId</th>\n",
              "      <th>orderStatus</th>\n",
              "      <th>placedDate</th>\n",
              "      <th>averagePriceMatched</th>\n",
              "      <th>instruction.orderType</th>\n",
              "      <th>instruction.selectionId</th>\n",
              "      <th>instruction.limitOrder.price</th>\n",
              "      <th>instruction.limitOrder.persistenceType</th>\n",
              "      <th>instruction.limitOrder.size</th>\n",
              "      <th>instruction.side</th>\n",
              "      <th>errorCode</th>\n",
              "      <th>sizeCancelled</th>\n",
              "      <th>cancelledDate</th>\n",
              "      <th>instruction.betId</th>\n",
              "      <th>instruction.sizeReduction</th>\n",
              "      <th>instruction.limitOrder.timeInForce</th>\n",
              "      <th>instruction.limitOrder.minFillSize</th>\n",
              "    </tr>\n",
              "  </thead>\n",
              "  <tbody>\n",
              "    <tr>\n",
              "      <th>21</th>\n",
              "      <td>SUCCESS</td>\n",
              "      <td>0.83</td>\n",
              "      <td>198774768643</td>\n",
              "      <td>EXECUTION_COMPLETE</td>\n",
              "      <td>2020-03-24T13:57:05.000Z</td>\n",
              "      <td>14.0</td>\n",
              "      <td>LIMIT</td>\n",
              "      <td>23225592.0</td>\n",
              "      <td>14.0</td>\n",
              "      <td>LAPSE</td>\n",
              "      <td>0.83</td>\n",
              "      <td>BACK</td>\n",
              "      <td>NaN</td>\n",
              "      <td>NaN</td>\n",
              "      <td>NaN</td>\n",
              "      <td>NaN</td>\n",
              "      <td>NaN</td>\n",
              "      <td>NaN</td>\n",
              "      <td>NaN</td>\n",
              "    </tr>\n",
              "    <tr>\n",
              "      <th>273</th>\n",
              "      <td>SUCCESS</td>\n",
              "      <td>7.65</td>\n",
              "      <td>198774779550</td>\n",
              "      <td>EXECUTION_COMPLETE</td>\n",
              "      <td>2020-03-24T13:57:30.000Z</td>\n",
              "      <td>10.0</td>\n",
              "      <td>LIMIT</td>\n",
              "      <td>26986439.0</td>\n",
              "      <td>10.0</td>\n",
              "      <td>LAPSE</td>\n",
              "      <td>7.65</td>\n",
              "      <td>BACK</td>\n",
              "      <td>NaN</td>\n",
              "      <td>NaN</td>\n",
              "      <td>NaN</td>\n",
              "      <td>NaN</td>\n",
              "      <td>NaN</td>\n",
              "      <td>NaN</td>\n",
              "      <td>NaN</td>\n",
              "    </tr>\n",
              "    <tr>\n",
              "      <th>491</th>\n",
              "      <td>SUCCESS</td>\n",
              "      <td>8.45</td>\n",
              "      <td>198774788664</td>\n",
              "      <td>EXECUTION_COMPLETE</td>\n",
              "      <td>2020-03-24T13:57:49.000Z</td>\n",
              "      <td>5.1</td>\n",
              "      <td>LIMIT</td>\n",
              "      <td>25013915.0</td>\n",
              "      <td>5.1</td>\n",
              "      <td>LAPSE</td>\n",
              "      <td>8.45</td>\n",
              "      <td>LAY</td>\n",
              "      <td>NaN</td>\n",
              "      <td>NaN</td>\n",
              "      <td>NaN</td>\n",
              "      <td>NaN</td>\n",
              "      <td>NaN</td>\n",
              "      <td>NaN</td>\n",
              "      <td>NaN</td>\n",
              "    </tr>\n",
              "    <tr>\n",
              "      <th>692</th>\n",
              "      <td>SUCCESS</td>\n",
              "      <td>7.48</td>\n",
              "      <td>198774799576</td>\n",
              "      <td>EXECUTION_COMPLETE</td>\n",
              "      <td>2020-03-24T13:58:08.000Z</td>\n",
              "      <td>13.0</td>\n",
              "      <td>LIMIT</td>\n",
              "      <td>23225592.0</td>\n",
              "      <td>13.0</td>\n",
              "      <td>LAPSE</td>\n",
              "      <td>7.48</td>\n",
              "      <td>BACK</td>\n",
              "      <td>NaN</td>\n",
              "      <td>NaN</td>\n",
              "      <td>NaN</td>\n",
              "      <td>NaN</td>\n",
              "      <td>NaN</td>\n",
              "      <td>NaN</td>\n",
              "      <td>NaN</td>\n",
              "    </tr>\n",
              "    <tr>\n",
              "      <th>926</th>\n",
              "      <td>SUCCESS</td>\n",
              "      <td>45.15</td>\n",
              "      <td>198774816447</td>\n",
              "      <td>EXECUTION_COMPLETE</td>\n",
              "      <td>2020-03-24T13:58:35.000Z</td>\n",
              "      <td>11.0</td>\n",
              "      <td>LIMIT</td>\n",
              "      <td>26986439.0</td>\n",
              "      <td>11.0</td>\n",
              "      <td>LAPSE</td>\n",
              "      <td>45.15</td>\n",
              "      <td>BACK</td>\n",
              "      <td>NaN</td>\n",
              "      <td>NaN</td>\n",
              "      <td>NaN</td>\n",
              "      <td>NaN</td>\n",
              "      <td>NaN</td>\n",
              "      <td>NaN</td>\n",
              "      <td>NaN</td>\n",
              "    </tr>\n",
              "  </tbody>\n",
              "</table>\n",
              "</div>"
            ],
            "text/plain": [
              "      status  ...  instruction.limitOrder.minFillSize\n",
              "21   SUCCESS  ...                                 NaN\n",
              "273  SUCCESS  ...                                 NaN\n",
              "491  SUCCESS  ...                                 NaN\n",
              "692  SUCCESS  ...                                 NaN\n",
              "926  SUCCESS  ...                                 NaN\n",
              "\n",
              "[5 rows x 19 columns]"
            ]
          },
          "metadata": {
            "tags": []
          },
          "execution_count": 392
        }
      ]
    },
    {
      "cell_type": "markdown",
      "metadata": {
        "id": "CTxFmKy3xwei",
        "colab_type": "text"
      },
      "source": [
        "**Back** **fills**"
      ]
    },
    {
      "cell_type": "code",
      "metadata": {
        "id": "zmtkHwywnE8L",
        "colab_type": "code",
        "colab": {
          "base_uri": "https://localhost:8080/",
          "height": 34
        },
        "outputId": "76a90727-804b-4977-8f06-5bc44d06879b"
      },
      "source": [
        "# number of back fills \n",
        "back_fills = brokers_df[(brokers_df['orderStatus'] == 'EXECUTION_COMPLETE') & (brokers_df['instruction.side'] == 'BACK')]\n",
        "print('Number of back fills is {}'.format(back_fills.shape[0]))"
      ],
      "execution_count": null,
      "outputs": [
        {
          "output_type": "stream",
          "text": [
            "Number of back fills is 22\n"
          ],
          "name": "stdout"
        }
      ]
    },
    {
      "cell_type": "code",
      "metadata": {
        "id": "nyKMOREitxrq",
        "colab_type": "code",
        "colab": {
          "base_uri": "https://localhost:8080/",
          "height": 34
        },
        "outputId": "91077d3f-fdb6-462e-973a-16b9b35fb748"
      },
      "source": [
        "# total back size matched \n",
        "back_matched = round((back_fills['sizeMatched'].sum()),4)\n",
        "print('Total back size matched is {}'.format(back_matched))"
      ],
      "execution_count": null,
      "outputs": [
        {
          "output_type": "stream",
          "text": [
            "Total back size matched is 1694.35\n"
          ],
          "name": "stdout"
        }
      ]
    },
    {
      "cell_type": "code",
      "metadata": {
        "id": "zx3YydNLu8jW",
        "colab_type": "code",
        "colab": {
          "base_uri": "https://localhost:8080/",
          "height": 119
        },
        "outputId": "4c71fb8b-6431-4689-8595-3aa5766dbed1"
      },
      "source": [
        "# average back price \n",
        "back_fills['price_size'] = (back_fills['averagePriceMatched'] * back_fills['sizeMatched'])\n",
        "avg_back_price = round((back_fills['price_size'].sum() / back_fills['sizeMatched'].sum()),4)"
      ],
      "execution_count": null,
      "outputs": [
        {
          "output_type": "stream",
          "text": [
            "/usr/local/lib/python3.6/dist-packages/ipykernel_launcher.py:2: SettingWithCopyWarning: \n",
            "A value is trying to be set on a copy of a slice from a DataFrame.\n",
            "Try using .loc[row_indexer,col_indexer] = value instead\n",
            "\n",
            "See the caveats in the documentation: https://pandas.pydata.org/pandas-docs/stable/user_guide/indexing.html#returning-a-view-versus-a-copy\n",
            "  \n"
          ],
          "name": "stderr"
        }
      ]
    },
    {
      "cell_type": "code",
      "metadata": {
        "id": "ti_4PxtSEGNe",
        "colab_type": "code",
        "colab": {
          "base_uri": "https://localhost:8080/",
          "height": 34
        },
        "outputId": "4fb574e2-f2cb-459a-9dcf-3b2b97edd805"
      },
      "source": [
        "print(\"Weighted average back price is {:2f}\".format(avg_back_price))"
      ],
      "execution_count": null,
      "outputs": [
        {
          "output_type": "stream",
          "text": [
            "Weighted average back price is 14.760900\n"
          ],
          "name": "stdout"
        }
      ]
    },
    {
      "cell_type": "code",
      "metadata": {
        "id": "V_fmrzas0Ku0",
        "colab_type": "code",
        "colab": {
          "base_uri": "https://localhost:8080/",
          "height": 34
        },
        "outputId": "ba941a32-64a4-44cf-b6af-2b2d98b3a6ab"
      },
      "source": [
        "# back exposure \n",
        "back_exposure = round((back_matched * avg_back_price),2)\n",
        "print('Back exposure on this race is {}'.format(back_exposure))"
      ],
      "execution_count": null,
      "outputs": [
        {
          "output_type": "stream",
          "text": [
            "Back exposure on this race is 25010.13\n"
          ],
          "name": "stdout"
        }
      ]
    },
    {
      "cell_type": "markdown",
      "metadata": {
        "id": "qt-UpF35xmB4",
        "colab_type": "text"
      },
      "source": [
        "**Lay** **fills**"
      ]
    },
    {
      "cell_type": "code",
      "metadata": {
        "id": "tjnrOBOsqwuA",
        "colab_type": "code",
        "colab": {
          "base_uri": "https://localhost:8080/",
          "height": 34
        },
        "outputId": "3ddd9a10-d34a-46b4-850d-e7a1b2efd03e"
      },
      "source": [
        "# number of lay fills \n",
        "lay_fills = brokers_df[(brokers_df['orderStatus'] == 'EXECUTION_COMPLETE') & (brokers_df['instruction.side'] == 'LAY')]\n",
        "print('Number of back fills is {}'.format(lay_fills.shape[0]))"
      ],
      "execution_count": null,
      "outputs": [
        {
          "output_type": "stream",
          "text": [
            "Number of back fills is 46\n"
          ],
          "name": "stdout"
        }
      ]
    },
    {
      "cell_type": "code",
      "metadata": {
        "id": "OSjPFy-8ndcR",
        "colab_type": "code",
        "colab": {
          "base_uri": "https://localhost:8080/",
          "height": 34
        },
        "outputId": "d7eeaa1e-8403-44e6-a5ee-32c1ba9144ea"
      },
      "source": [
        "# total lay size matched \n",
        "lay_matched = round((lay_fills['sizeMatched'].sum()),4)\n",
        "print('Total back size matched is {}'.format(lay_matched))"
      ],
      "execution_count": null,
      "outputs": [
        {
          "output_type": "stream",
          "text": [
            "Total back size matched is 561.27\n"
          ],
          "name": "stdout"
        }
      ]
    },
    {
      "cell_type": "code",
      "metadata": {
        "id": "xieyXdzIntrv",
        "colab_type": "code",
        "colab": {
          "base_uri": "https://localhost:8080/",
          "height": 119
        },
        "outputId": "4b459fc5-e6c8-4ef5-cab5-de3f62a2c8ae"
      },
      "source": [
        "# average lay price \n",
        "lay_fills['price_size'] = (lay_fills['averagePriceMatched'] * lay_fills['sizeMatched'])\n",
        "avg_lay_price = round((lay_fills['price_size'].sum() / lay_fills['sizeMatched'].sum()),4)"
      ],
      "execution_count": null,
      "outputs": [
        {
          "output_type": "stream",
          "text": [
            "/usr/local/lib/python3.6/dist-packages/ipykernel_launcher.py:2: SettingWithCopyWarning: \n",
            "A value is trying to be set on a copy of a slice from a DataFrame.\n",
            "Try using .loc[row_indexer,col_indexer] = value instead\n",
            "\n",
            "See the caveats in the documentation: https://pandas.pydata.org/pandas-docs/stable/user_guide/indexing.html#returning-a-view-versus-a-copy\n",
            "  \n"
          ],
          "name": "stderr"
        }
      ]
    },
    {
      "cell_type": "code",
      "metadata": {
        "id": "GHID8VSaFJOm",
        "colab_type": "code",
        "colab": {
          "base_uri": "https://localhost:8080/",
          "height": 34
        },
        "outputId": "15b9d198-06e9-4600-91bd-e8f371efe22f"
      },
      "source": [
        "print(\"Weighted average back price is {}\".format(avg_back_price))"
      ],
      "execution_count": null,
      "outputs": [
        {
          "output_type": "stream",
          "text": [
            "Weighted average back price is 14.7609\n"
          ],
          "name": "stdout"
        }
      ]
    },
    {
      "cell_type": "code",
      "metadata": {
        "id": "boF4o1nHyHHQ",
        "colab_type": "code",
        "colab": {
          "base_uri": "https://localhost:8080/",
          "height": 34
        },
        "outputId": "04b59ff7-0309-45b7-f863-503d6969e85b"
      },
      "source": [
        "# lay exposure\n",
        "lay_exposure = round((lay_matched * avg_lay_price),2)\n",
        "print('Lay exposure on this race is {}'.format(lay_exposure))"
      ],
      "execution_count": null,
      "outputs": [
        {
          "output_type": "stream",
          "text": [
            "Lay exposure on this race is 25840.93\n"
          ],
          "name": "stdout"
        }
      ]
    },
    {
      "cell_type": "markdown",
      "metadata": {
        "id": "12M7HGa3HkHf",
        "colab_type": "text"
      },
      "source": [
        "### **Observations**"
      ]
    },
    {
      "cell_type": "markdown",
      "metadata": {
        "id": "2oJfwwDkFele",
        "colab_type": "text"
      },
      "source": [
        "From what I could see in the logs SeamLess provided liquidity on Betfair exchange layering orders across three levels of the book on any traded name. \n",
        "\n",
        "As new data comes is these orders are then cancelled, size and price adjusted and replaced.\n",
        "\n",
        "Style of trading appears not to be directional but rather delta neutral with back and lay exposure of very similar size \n"
      ]
    },
    {
      "cell_type": "markdown",
      "metadata": {
        "id": "XxmEFLcJs_Q1",
        "colab_type": "text"
      },
      "source": [
        "### **Task 2. Evaluate how good our trading is**"
      ]
    },
    {
      "cell_type": "code",
      "metadata": {
        "id": "BndTwsLO08_8",
        "colab_type": "code",
        "colab": {
          "base_uri": "https://localhost:8080/",
          "height": 411
        },
        "outputId": "4e8db3a9-3adc-455f-c3cb-7578a2019a7e"
      },
      "source": [
        "# get all fills \n",
        "fills = brokers_df[(brokers_df['orderStatus'] == 'EXECUTION_COMPLETE')]\n",
        "fills['price_size'] = fills['sizeMatched'] * fills['averagePriceMatched']\n",
        "fills.head()"
      ],
      "execution_count": null,
      "outputs": [
        {
          "output_type": "stream",
          "text": [
            "/usr/local/lib/python3.6/dist-packages/ipykernel_launcher.py:3: SettingWithCopyWarning: \n",
            "A value is trying to be set on a copy of a slice from a DataFrame.\n",
            "Try using .loc[row_indexer,col_indexer] = value instead\n",
            "\n",
            "See the caveats in the documentation: https://pandas.pydata.org/pandas-docs/stable/user_guide/indexing.html#returning-a-view-versus-a-copy\n",
            "  This is separate from the ipykernel package so we can avoid doing imports until\n"
          ],
          "name": "stderr"
        },
        {
          "output_type": "execute_result",
          "data": {
            "text/html": [
              "<div>\n",
              "<style scoped>\n",
              "    .dataframe tbody tr th:only-of-type {\n",
              "        vertical-align: middle;\n",
              "    }\n",
              "\n",
              "    .dataframe tbody tr th {\n",
              "        vertical-align: top;\n",
              "    }\n",
              "\n",
              "    .dataframe thead th {\n",
              "        text-align: right;\n",
              "    }\n",
              "</style>\n",
              "<table border=\"1\" class=\"dataframe\">\n",
              "  <thead>\n",
              "    <tr style=\"text-align: right;\">\n",
              "      <th></th>\n",
              "      <th>status</th>\n",
              "      <th>sizeMatched</th>\n",
              "      <th>betId</th>\n",
              "      <th>orderStatus</th>\n",
              "      <th>placedDate</th>\n",
              "      <th>averagePriceMatched</th>\n",
              "      <th>instruction.orderType</th>\n",
              "      <th>instruction.selectionId</th>\n",
              "      <th>instruction.limitOrder.price</th>\n",
              "      <th>instruction.limitOrder.persistenceType</th>\n",
              "      <th>instruction.limitOrder.size</th>\n",
              "      <th>instruction.side</th>\n",
              "      <th>errorCode</th>\n",
              "      <th>sizeCancelled</th>\n",
              "      <th>cancelledDate</th>\n",
              "      <th>instruction.betId</th>\n",
              "      <th>instruction.sizeReduction</th>\n",
              "      <th>instruction.limitOrder.timeInForce</th>\n",
              "      <th>instruction.limitOrder.minFillSize</th>\n",
              "      <th>price_size</th>\n",
              "    </tr>\n",
              "  </thead>\n",
              "  <tbody>\n",
              "    <tr>\n",
              "      <th>21</th>\n",
              "      <td>SUCCESS</td>\n",
              "      <td>0.83</td>\n",
              "      <td>198774768643</td>\n",
              "      <td>EXECUTION_COMPLETE</td>\n",
              "      <td>2020-03-24T13:57:05.000Z</td>\n",
              "      <td>14.0</td>\n",
              "      <td>LIMIT</td>\n",
              "      <td>23225592.0</td>\n",
              "      <td>14.0</td>\n",
              "      <td>LAPSE</td>\n",
              "      <td>0.83</td>\n",
              "      <td>BACK</td>\n",
              "      <td>NaN</td>\n",
              "      <td>NaN</td>\n",
              "      <td>NaN</td>\n",
              "      <td>NaN</td>\n",
              "      <td>NaN</td>\n",
              "      <td>NaN</td>\n",
              "      <td>NaN</td>\n",
              "      <td>11.620</td>\n",
              "    </tr>\n",
              "    <tr>\n",
              "      <th>273</th>\n",
              "      <td>SUCCESS</td>\n",
              "      <td>7.65</td>\n",
              "      <td>198774779550</td>\n",
              "      <td>EXECUTION_COMPLETE</td>\n",
              "      <td>2020-03-24T13:57:30.000Z</td>\n",
              "      <td>10.0</td>\n",
              "      <td>LIMIT</td>\n",
              "      <td>26986439.0</td>\n",
              "      <td>10.0</td>\n",
              "      <td>LAPSE</td>\n",
              "      <td>7.65</td>\n",
              "      <td>BACK</td>\n",
              "      <td>NaN</td>\n",
              "      <td>NaN</td>\n",
              "      <td>NaN</td>\n",
              "      <td>NaN</td>\n",
              "      <td>NaN</td>\n",
              "      <td>NaN</td>\n",
              "      <td>NaN</td>\n",
              "      <td>76.500</td>\n",
              "    </tr>\n",
              "    <tr>\n",
              "      <th>491</th>\n",
              "      <td>SUCCESS</td>\n",
              "      <td>8.45</td>\n",
              "      <td>198774788664</td>\n",
              "      <td>EXECUTION_COMPLETE</td>\n",
              "      <td>2020-03-24T13:57:49.000Z</td>\n",
              "      <td>5.1</td>\n",
              "      <td>LIMIT</td>\n",
              "      <td>25013915.0</td>\n",
              "      <td>5.1</td>\n",
              "      <td>LAPSE</td>\n",
              "      <td>8.45</td>\n",
              "      <td>LAY</td>\n",
              "      <td>NaN</td>\n",
              "      <td>NaN</td>\n",
              "      <td>NaN</td>\n",
              "      <td>NaN</td>\n",
              "      <td>NaN</td>\n",
              "      <td>NaN</td>\n",
              "      <td>NaN</td>\n",
              "      <td>43.095</td>\n",
              "    </tr>\n",
              "    <tr>\n",
              "      <th>692</th>\n",
              "      <td>SUCCESS</td>\n",
              "      <td>7.48</td>\n",
              "      <td>198774799576</td>\n",
              "      <td>EXECUTION_COMPLETE</td>\n",
              "      <td>2020-03-24T13:58:08.000Z</td>\n",
              "      <td>13.0</td>\n",
              "      <td>LIMIT</td>\n",
              "      <td>23225592.0</td>\n",
              "      <td>13.0</td>\n",
              "      <td>LAPSE</td>\n",
              "      <td>7.48</td>\n",
              "      <td>BACK</td>\n",
              "      <td>NaN</td>\n",
              "      <td>NaN</td>\n",
              "      <td>NaN</td>\n",
              "      <td>NaN</td>\n",
              "      <td>NaN</td>\n",
              "      <td>NaN</td>\n",
              "      <td>NaN</td>\n",
              "      <td>97.240</td>\n",
              "    </tr>\n",
              "    <tr>\n",
              "      <th>926</th>\n",
              "      <td>SUCCESS</td>\n",
              "      <td>45.15</td>\n",
              "      <td>198774816447</td>\n",
              "      <td>EXECUTION_COMPLETE</td>\n",
              "      <td>2020-03-24T13:58:35.000Z</td>\n",
              "      <td>11.0</td>\n",
              "      <td>LIMIT</td>\n",
              "      <td>26986439.0</td>\n",
              "      <td>11.0</td>\n",
              "      <td>LAPSE</td>\n",
              "      <td>45.15</td>\n",
              "      <td>BACK</td>\n",
              "      <td>NaN</td>\n",
              "      <td>NaN</td>\n",
              "      <td>NaN</td>\n",
              "      <td>NaN</td>\n",
              "      <td>NaN</td>\n",
              "      <td>NaN</td>\n",
              "      <td>NaN</td>\n",
              "      <td>496.650</td>\n",
              "    </tr>\n",
              "  </tbody>\n",
              "</table>\n",
              "</div>"
            ],
            "text/plain": [
              "      status  sizeMatched  ... instruction.limitOrder.minFillSize price_size\n",
              "21   SUCCESS         0.83  ...                                NaN     11.620\n",
              "273  SUCCESS         7.65  ...                                NaN     76.500\n",
              "491  SUCCESS         8.45  ...                                NaN     43.095\n",
              "692  SUCCESS         7.48  ...                                NaN     97.240\n",
              "926  SUCCESS        45.15  ...                                NaN    496.650\n",
              "\n",
              "[5 rows x 20 columns]"
            ]
          },
          "metadata": {
            "tags": []
          },
          "execution_count": 405
        }
      ]
    },
    {
      "cell_type": "code",
      "metadata": {
        "id": "4uc65LHnxOVi",
        "colab_type": "code",
        "colab": {
          "base_uri": "https://localhost:8080/",
          "height": 119
        },
        "outputId": "136684b7-2292-4db6-aeda-6ae71345d76f"
      },
      "source": [
        "# traded Ids  \n",
        "tradedIds = fills['instruction.selectionId'].unique()\n",
        "\n",
        "# function to get final expouse, side and avg price on all traded names \n",
        "for id in tradedIds:\n",
        "  position = brokers_df[(brokers_df['orderStatus'] == 'EXECUTION_COMPLETE') & (brokers_df['instruction.selectionId'] == id)]['sizeMatched'].sum()\n",
        "  price_size = fills[(fills['orderStatus'] == 'EXECUTION_COMPLETE') & (fills['instruction.selectionId'] == id)]['price_size'].sum()\n",
        "  price_sum = fills[(fills['orderStatus'] == 'EXECUTION_COMPLETE') & (fills['instruction.selectionId'] == id)]['averagePriceMatched'].sum()\n",
        "  size_sum = fills[(fills['orderStatus'] == 'EXECUTION_COMPLETE') & (fills['instruction.selectionId'] == id)]['sizeMatched'].sum()\n",
        "  weighted_average_price = (price_size / size_sum)\n",
        "  side = brokers_df[(brokers_df['orderStatus'] == 'EXECUTION_COMPLETE') & (brokers_df['instruction.selectionId'] == id)]['instruction.side'].iloc[-1]\n",
        "\n",
        "  print('Position on Id {} is {} {} at weighted average price of {}'.format(int((id)), side, round((position),2),round((weighted_average_price),2)))"
      ],
      "execution_count": null,
      "outputs": [
        {
          "output_type": "stream",
          "text": [
            "Position on Id 23225592 is BACK 1562.85 at weighted average price of 10.61\n",
            "Position on Id 26986439 is BACK 74.17 at weighted average price of 11.05\n",
            "Position on Id 25013915 is LAY 27.74 at weighted average price of 4.96\n",
            "Position on Id 28232003 is BACK 57.33 at weighted average price of 132.66\n",
            "Position on Id 28247531 is LAY 66.05 at weighted average price of 107.7\n",
            "Position on Id 28095568 is LAY 467.48 at weighted average price of 39.77\n"
          ],
          "name": "stdout"
        }
      ]
    },
    {
      "cell_type": "code",
      "metadata": {
        "id": "HA9nwbFD490R",
        "colab_type": "code",
        "colab": {
          "base_uri": "https://localhost:8080/",
          "height": 638
        },
        "outputId": "599321b9-5dea-41a5-c2e2-e81bc638dbe7"
      },
      "source": [
        "# map Ids to runner names \n",
        "exchange_desc[['runnerName','selectionId']]"
      ],
      "execution_count": null,
      "outputs": [
        {
          "output_type": "execute_result",
          "data": {
            "text/html": [
              "<div>\n",
              "<style scoped>\n",
              "    .dataframe tbody tr th:only-of-type {\n",
              "        vertical-align: middle;\n",
              "    }\n",
              "\n",
              "    .dataframe tbody tr th {\n",
              "        vertical-align: top;\n",
              "    }\n",
              "\n",
              "    .dataframe thead th {\n",
              "        text-align: right;\n",
              "    }\n",
              "</style>\n",
              "<table border=\"1\" class=\"dataframe\">\n",
              "  <thead>\n",
              "    <tr style=\"text-align: right;\">\n",
              "      <th></th>\n",
              "      <th>runnerName</th>\n",
              "      <th>selectionId</th>\n",
              "    </tr>\n",
              "  </thead>\n",
              "  <tbody>\n",
              "    <tr>\n",
              "      <th>0</th>\n",
              "      <td>Farmix</td>\n",
              "      <td>27157433</td>\n",
              "    </tr>\n",
              "    <tr>\n",
              "      <th>1</th>\n",
              "      <td>Florrie Webb</td>\n",
              "      <td>25013915</td>\n",
              "    </tr>\n",
              "    <tr>\n",
              "      <th>2</th>\n",
              "      <td>Coolagh Park</td>\n",
              "      <td>24044533</td>\n",
              "    </tr>\n",
              "    <tr>\n",
              "      <th>3</th>\n",
              "      <td>Jack Hackett</td>\n",
              "      <td>23225592</td>\n",
              "    </tr>\n",
              "    <tr>\n",
              "      <th>4</th>\n",
              "      <td>Rebel Gold</td>\n",
              "      <td>26986439</td>\n",
              "    </tr>\n",
              "    <tr>\n",
              "      <th>5</th>\n",
              "      <td>Satin Sun</td>\n",
              "      <td>28095568</td>\n",
              "    </tr>\n",
              "    <tr>\n",
              "      <th>6</th>\n",
              "      <td>She Tops The Lot</td>\n",
              "      <td>28247531</td>\n",
              "    </tr>\n",
              "    <tr>\n",
              "      <th>7</th>\n",
              "      <td>Justfortherecord</td>\n",
              "      <td>28247530</td>\n",
              "    </tr>\n",
              "    <tr>\n",
              "      <th>8</th>\n",
              "      <td>Giftedtokate</td>\n",
              "      <td>28232003</td>\n",
              "    </tr>\n",
              "    <tr>\n",
              "      <th>9</th>\n",
              "      <td>Boghlone Honey</td>\n",
              "      <td>27915468</td>\n",
              "    </tr>\n",
              "    <tr>\n",
              "      <th>10</th>\n",
              "      <td>Cornhill Lass</td>\n",
              "      <td>26831220</td>\n",
              "    </tr>\n",
              "    <tr>\n",
              "      <th>11</th>\n",
              "      <td>Morning Glisten</td>\n",
              "      <td>28041063</td>\n",
              "    </tr>\n",
              "    <tr>\n",
              "      <th>12</th>\n",
              "      <td>Kerrymaygold</td>\n",
              "      <td>24707404</td>\n",
              "    </tr>\n",
              "    <tr>\n",
              "      <th>13</th>\n",
              "      <td>Gone Racing</td>\n",
              "      <td>24245268</td>\n",
              "    </tr>\n",
              "    <tr>\n",
              "      <th>14</th>\n",
              "      <td>Miss Sophiea</td>\n",
              "      <td>27382103</td>\n",
              "    </tr>\n",
              "    <tr>\n",
              "      <th>15</th>\n",
              "      <td>Carriealice</td>\n",
              "      <td>25013914</td>\n",
              "    </tr>\n",
              "    <tr>\n",
              "      <th>16</th>\n",
              "      <td>Western Dreaming</td>\n",
              "      <td>26615399</td>\n",
              "    </tr>\n",
              "    <tr>\n",
              "      <th>17</th>\n",
              "      <td>Different Beat</td>\n",
              "      <td>27072317</td>\n",
              "    </tr>\n",
              "    <tr>\n",
              "      <th>18</th>\n",
              "      <td>Kopon</td>\n",
              "      <td>27488784</td>\n",
              "    </tr>\n",
              "  </tbody>\n",
              "</table>\n",
              "</div>"
            ],
            "text/plain": [
              "          runnerName  selectionId\n",
              "0             Farmix     27157433\n",
              "1       Florrie Webb     25013915\n",
              "2       Coolagh Park     24044533\n",
              "3       Jack Hackett     23225592\n",
              "4         Rebel Gold     26986439\n",
              "5          Satin Sun     28095568\n",
              "6   She Tops The Lot     28247531\n",
              "7   Justfortherecord     28247530\n",
              "8       Giftedtokate     28232003\n",
              "9     Boghlone Honey     27915468\n",
              "10     Cornhill Lass     26831220\n",
              "11   Morning Glisten     28041063\n",
              "12      Kerrymaygold     24707404\n",
              "13       Gone Racing     24245268\n",
              "14      Miss Sophiea     27382103\n",
              "15       Carriealice     25013914\n",
              "16  Western Dreaming     26615399\n",
              "17    Different Beat     27072317\n",
              "18             Kopon     27488784"
            ]
          },
          "metadata": {
            "tags": []
          },
          "execution_count": 407
        }
      ]
    },
    {
      "cell_type": "markdown",
      "metadata": {
        "id": "lItiKPun7JiO",
        "colab_type": "text"
      },
      "source": [
        "SeamLess exposure to the race is the following: \n",
        "\n",
        "**Jack Hackett** *backed* 1562.85 at weighted average price of 10.61\n",
        "\n",
        "**Rebel Gold** *backed* 74.17 at weighted average price of 11.05\n",
        "\n",
        "**Florrie Webb** *laid* 27.74 at weighted average price of 4.96\n",
        "\n",
        "**Giftedtokate** *backed* 57.33 at weighted average price of 132.66\n",
        "\n",
        "**She Tops The Lot** *laid* 66.05 at weighted average price of 107.7\n",
        "\n",
        "**Satin Sun** *laid* 467.48 at weighted average price of 39.77\n",
        "\n"
      ]
    },
    {
      "cell_type": "code",
      "metadata": {
        "id": "ZZvKf2D_MDr4",
        "colab_type": "code",
        "colab": {
          "base_uri": "https://localhost:8080/",
          "height": 119
        },
        "outputId": "862def3e-d1bf-4565-f568-fb9875d330a5"
      },
      "source": [
        "for id in tradedIds:\n",
        "  position = brokers_df[(brokers_df['orderStatus'] == 'EXECUTION_COMPLETE') & (brokers_df['instruction.selectionId'] == id)]['sizeMatched'].sum()\n",
        "  price_size = fills[(fills['orderStatus'] == 'EXECUTION_COMPLETE') & (fills['instruction.selectionId'] == id)]['price_size'].sum()\n",
        "  price_sum = fills[(fills['orderStatus'] == 'EXECUTION_COMPLETE') & (fills['instruction.selectionId'] == id)]['averagePriceMatched'].sum()\n",
        "  size_sum = fills[(fills['orderStatus'] == 'EXECUTION_COMPLETE') & (fills['instruction.selectionId'] == id)]['sizeMatched'].sum()\n",
        "  weighted_average_price = (price_size / size_sum)\n",
        "  exposure = position * weighted_average_price\n",
        "  side = brokers_df[(brokers_df['orderStatus'] == 'EXECUTION_COMPLETE') & (brokers_df['instruction.selectionId'] == id)]['instruction.side'].iloc[-1]\n",
        "\n",
        "  print('{} position of {} at price of {} on ID {} gives total exposure of {}'.format(side ,round((position),2), round((weighted_average_price),2), int(id), round((exposure),2)))"
      ],
      "execution_count": null,
      "outputs": [
        {
          "output_type": "stream",
          "text": [
            "BACK position of 1562.85 at price of 10.61 on ID 23225592 gives total exposure of 16585.38\n",
            "BACK position of 74.17 at price of 11.05 on ID 26986439 gives total exposure of 819.32\n",
            "LAY position of 27.74 at price of 4.96 on ID 25013915 gives total exposure of 137.62\n",
            "BACK position of 57.33 at price of 132.66 on ID 28232003 gives total exposure of 7605.5\n",
            "LAY position of 66.05 at price of 107.7 on ID 28247531 gives total exposure of 7113.35\n",
            "LAY position of 467.48 at price of 39.77 on ID 28095568 gives total exposure of 18589.98\n"
          ],
          "name": "stdout"
        }
      ]
    },
    {
      "cell_type": "markdown",
      "metadata": {
        "id": "na1b5cFoMgbu",
        "colab_type": "text"
      },
      "source": [
        "Out of the six positions, three were backed and three were laid. Note how backed positions have corresponding laid positions, similar to a long short equity portfolio. Clear example of this is ID 23225592 with ID 28095568\n",
        "\n",
        "Total back exposure is 25010.2 whereas lay exposure is 25836.86"
      ]
    },
    {
      "cell_type": "markdown",
      "metadata": {
        "id": "utpvus4T-DET",
        "colab_type": "text"
      },
      "source": [
        "Outcome of the race was: \n",
        "\n",
        "https://www.sportinglife.com/racing/results/2020-03-24/clonmel/569131/money-back-on-the-boylesports-app-maiden-hurdle\n",
        "\n",
        "1st Farmix \n",
        "\n",
        "2nd Rebel Gold\n",
        "\n",
        "3rd Jack Hackett\n",
        "\n",
        "4th Satin Sun\n",
        "\n",
        "5th Boghlone Honey\n",
        "\n",
        "6th She Tops The Lot\n",
        "\n",
        "7th Morning Glisten\n",
        "\n",
        "8th Cornhill Lass\n",
        "\n",
        "9th Gone Racing\n",
        "\n",
        "10th Florrie Webb\n",
        "\n",
        "11th Carriealice\n",
        "\n",
        "12th Coolagh Park\n",
        "\n",
        "13th Giftedtokate\n",
        "\n",
        "14th Kerrymaygold\n"
      ]
    },
    {
      "cell_type": "markdown",
      "metadata": {
        "id": "oQmoxwNuO7wn",
        "colab_type": "text"
      },
      "source": [
        "\n",
        "Farmix won the race. SeamLess had not position on this name. Therefore, assuming no other orders were executed prior to the start of these logs, the outcome of the race was to 'collect premius' from laying IDs 25013915, 28247531, 28095568"
      ]
    },
    {
      "cell_type": "markdown",
      "metadata": {
        "id": "Sfxqr-kbeK4s",
        "colab_type": "text"
      },
      "source": [
        "### **Task 3: Outline a plan for improving our execution**"
      ]
    },
    {
      "cell_type": "markdown",
      "metadata": {
        "id": "6vXpcs-Ueot_",
        "colab_type": "text"
      },
      "source": [
        "Most orders were executed 30 seconds before race start or few seconds in-play.\n",
        "\n",
        "Taking selectionId '28232003' as an example, all four orders were executed in the space of 9 seconds. Price impact was significant where first back fill was at 140 and last one at 110\n"
      ]
    },
    {
      "cell_type": "code",
      "metadata": {
        "id": "OVRsWHGv4M--",
        "colab_type": "code",
        "colab": {
          "base_uri": "https://localhost:8080/",
          "height": 261
        },
        "outputId": "0bdedc49-75fe-4b32-9280-a9e6cffe5196"
      },
      "source": [
        "orders = brokers_df[(brokers_df['orderStatus'] == 'EXECUTION_COMPLETE') & (brokers_df['instruction.selectionId'] == 28232003.0)][['orderStatus','placedDate','instruction.orderType','instruction.side',\n",
        "                                                                            'instruction.orderType','instruction.limitOrder.price','instruction.limitOrder.size','instruction.limitOrder.persistenceType']]\n",
        "orders"
      ],
      "execution_count": null,
      "outputs": [
        {
          "output_type": "execute_result",
          "data": {
            "text/html": [
              "<div>\n",
              "<style scoped>\n",
              "    .dataframe tbody tr th:only-of-type {\n",
              "        vertical-align: middle;\n",
              "    }\n",
              "\n",
              "    .dataframe tbody tr th {\n",
              "        vertical-align: top;\n",
              "    }\n",
              "\n",
              "    .dataframe thead th {\n",
              "        text-align: right;\n",
              "    }\n",
              "</style>\n",
              "<table border=\"1\" class=\"dataframe\">\n",
              "  <thead>\n",
              "    <tr style=\"text-align: right;\">\n",
              "      <th></th>\n",
              "      <th>orderStatus</th>\n",
              "      <th>placedDate</th>\n",
              "      <th>instruction.orderType</th>\n",
              "      <th>instruction.side</th>\n",
              "      <th>instruction.orderType</th>\n",
              "      <th>instruction.limitOrder.price</th>\n",
              "      <th>instruction.limitOrder.size</th>\n",
              "      <th>instruction.limitOrder.persistenceType</th>\n",
              "    </tr>\n",
              "  </thead>\n",
              "  <tbody>\n",
              "    <tr>\n",
              "      <th>1137</th>\n",
              "      <td>EXECUTION_COMPLETE</td>\n",
              "      <td>2020-03-24T13:59:21.000Z</td>\n",
              "      <td>LIMIT</td>\n",
              "      <td>BACK</td>\n",
              "      <td>LIMIT</td>\n",
              "      <td>140.0</td>\n",
              "      <td>28.25</td>\n",
              "      <td>NaN</td>\n",
              "    </tr>\n",
              "    <tr>\n",
              "      <th>1139</th>\n",
              "      <td>EXECUTION_COMPLETE</td>\n",
              "      <td>2020-03-24T13:59:22.000Z</td>\n",
              "      <td>LIMIT</td>\n",
              "      <td>BACK</td>\n",
              "      <td>LIMIT</td>\n",
              "      <td>130.0</td>\n",
              "      <td>16.11</td>\n",
              "      <td>NaN</td>\n",
              "    </tr>\n",
              "    <tr>\n",
              "      <th>1141</th>\n",
              "      <td>EXECUTION_COMPLETE</td>\n",
              "      <td>2020-03-24T13:59:22.000Z</td>\n",
              "      <td>LIMIT</td>\n",
              "      <td>BACK</td>\n",
              "      <td>LIMIT</td>\n",
              "      <td>120.0</td>\n",
              "      <td>11.67</td>\n",
              "      <td>NaN</td>\n",
              "    </tr>\n",
              "    <tr>\n",
              "      <th>1148</th>\n",
              "      <td>EXECUTION_COMPLETE</td>\n",
              "      <td>2020-03-24T13:59:30.000Z</td>\n",
              "      <td>LIMIT</td>\n",
              "      <td>BACK</td>\n",
              "      <td>LIMIT</td>\n",
              "      <td>110.0</td>\n",
              "      <td>1.31</td>\n",
              "      <td>NaN</td>\n",
              "    </tr>\n",
              "  </tbody>\n",
              "</table>\n",
              "</div>"
            ],
            "text/plain": [
              "             orderStatus  ... instruction.limitOrder.persistenceType\n",
              "1137  EXECUTION_COMPLETE  ...                                    NaN\n",
              "1139  EXECUTION_COMPLETE  ...                                    NaN\n",
              "1141  EXECUTION_COMPLETE  ...                                    NaN\n",
              "1148  EXECUTION_COMPLETE  ...                                    NaN\n",
              "\n",
              "[4 rows x 8 columns]"
            ]
          },
          "metadata": {
            "tags": []
          },
          "execution_count": 409
        }
      ]
    },
    {
      "cell_type": "markdown",
      "metadata": {
        "id": "6ArMdbvBoEQk",
        "colab_type": "text"
      },
      "source": [
        "One way for improving execution would be to adopt VWAP or TWAP algorithms with features preventing orders from taking out levels on the book.\n",
        "\n",
        "Performance can be analysed in a simulated environment where VWAP or TWAP algorithm price fills is compared to current execution methods"
      ]
    }
  ]
}